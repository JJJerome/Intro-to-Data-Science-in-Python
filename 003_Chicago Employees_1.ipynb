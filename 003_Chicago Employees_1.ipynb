{
 "cells": [
  {
   "cell_type": "markdown",
   "metadata": {
    "slideshow": {
     "slide_type": "-"
    }
   },
   "source": [
    "First, let's import libraries and run notebook \"magic\" to have plots appear inline\n",
    "--"
   ]
  },
  {
   "cell_type": "code",
   "execution_count": 2,
   "metadata": {
    "collapsed": false
   },
   "outputs": [
    {
     "name": "stdout",
     "output_type": "stream",
     "text": [
      "Populating the interactive namespace from numpy and matplotlib\n"
     ]
    }
   ],
   "source": [
    "from IPython.display import IFrame\n",
    "import numpy as np\n",
    "import pandas as pd\n",
    "import scipy\n",
    "import scipy.stats\n",
    "import seaborn as sns\n",
    "\n",
    "%pylab inline"
   ]
  },
  {
   "cell_type": "markdown",
   "metadata": {},
   "source": [
    "Now, we load our .csv file as a pandas dataframe into a variable called df. csv stands for \"comma separated values\"\n",
    "--"
   ]
  },
  {
   "cell_type": "code",
   "execution_count": 3,
   "metadata": {
    "collapsed": false
   },
   "outputs": [],
   "source": [
    "df = pd.read_csv('data/Employees.csv')"
   ]
  },
  {
   "cell_type": "code",
   "execution_count": 3,
   "metadata": {
    "collapsed": false
   },
   "outputs": [
    {
     "data": {
      "text/html": [
       "<div style=\"max-height:1000px;max-width:1500px;overflow:auto;\">\n",
       "<table border=\"1\" class=\"dataframe\">\n",
       "  <thead>\n",
       "    <tr style=\"text-align: right;\">\n",
       "      <th></th>\n",
       "      <th>Name</th>\n",
       "      <th>Position Title</th>\n",
       "      <th>Department</th>\n",
       "      <th>Employee Annual Salary</th>\n",
       "    </tr>\n",
       "  </thead>\n",
       "  <tbody>\n",
       "    <tr>\n",
       "      <th>0    </th>\n",
       "      <td>          AARON,  ELVIA J</td>\n",
       "      <td>                              WATER RATE TAKER</td>\n",
       "      <td>      WATER MGMNT</td>\n",
       "      <td>  $90744.00</td>\n",
       "    </tr>\n",
       "    <tr>\n",
       "      <th>1    </th>\n",
       "      <td>        AARON,  JEFFERY M</td>\n",
       "      <td>                                POLICE OFFICER</td>\n",
       "      <td>           POLICE</td>\n",
       "      <td>  $84450.00</td>\n",
       "    </tr>\n",
       "    <tr>\n",
       "      <th>2    </th>\n",
       "      <td>           AARON,  KARINA</td>\n",
       "      <td>                                POLICE OFFICER</td>\n",
       "      <td>           POLICE</td>\n",
       "      <td>  $84450.00</td>\n",
       "    </tr>\n",
       "    <tr>\n",
       "      <th>3    </th>\n",
       "      <td>      AARON,  KIMBERLEI R</td>\n",
       "      <td>                      CHIEF CONTRACT EXPEDITER</td>\n",
       "      <td> GENERAL SERVICES</td>\n",
       "      <td>  $89880.00</td>\n",
       "    </tr>\n",
       "    <tr>\n",
       "      <th>4    </th>\n",
       "      <td>      ABAD JR,  VICENTE M</td>\n",
       "      <td>                             CIVIL ENGINEER IV</td>\n",
       "      <td>      WATER MGMNT</td>\n",
       "      <td> $106836.00</td>\n",
       "    </tr>\n",
       "    <tr>\n",
       "      <th>5    </th>\n",
       "      <td>          ABARCA,  ANABEL</td>\n",
       "      <td>                          ASST TO THE ALDERMAN</td>\n",
       "      <td>     CITY COUNCIL</td>\n",
       "      <td>  $70764.00</td>\n",
       "    </tr>\n",
       "    <tr>\n",
       "      <th>6    </th>\n",
       "      <td>        ABARCA,  EMMANUEL</td>\n",
       "      <td>                         GENERAL LABORER - DSS</td>\n",
       "      <td>    STREETS &amp; SAN</td>\n",
       "      <td>  $41849.60</td>\n",
       "    </tr>\n",
       "    <tr>\n",
       "      <th>7    </th>\n",
       "      <td>        ABASCAL,  REECE E</td>\n",
       "      <td>                   TRAFFIC CONTROL AIDE-HOURLY</td>\n",
       "      <td>             OEMC</td>\n",
       "      <td>  $20051.20</td>\n",
       "    </tr>\n",
       "    <tr>\n",
       "      <th>8    </th>\n",
       "      <td>     ABBASI,  CHRISTOPHER</td>\n",
       "      <td>                    STAFF ASST TO THE ALDERMAN</td>\n",
       "      <td>     CITY COUNCIL</td>\n",
       "      <td>  $49452.00</td>\n",
       "    </tr>\n",
       "    <tr>\n",
       "      <th>9    </th>\n",
       "      <td>    ABBATACOLA,  ROBERT J</td>\n",
       "      <td>                           ELECTRICAL MECHANIC</td>\n",
       "      <td>         AVIATION</td>\n",
       "      <td>  $93600.00</td>\n",
       "    </tr>\n",
       "    <tr>\n",
       "      <th>10   </th>\n",
       "      <td>    ABBATEMARCO,  JAMES J</td>\n",
       "      <td>                             FIRE ENGINEER-EMT</td>\n",
       "      <td>             FIRE</td>\n",
       "      <td> $100320.00</td>\n",
       "    </tr>\n",
       "    <tr>\n",
       "      <th>11   </th>\n",
       "      <td>         ABBATE,  TERRY M</td>\n",
       "      <td>                                POLICE OFFICER</td>\n",
       "      <td>           POLICE</td>\n",
       "      <td>  $90618.00</td>\n",
       "    </tr>\n",
       "    <tr>\n",
       "      <th>12   </th>\n",
       "      <td>         ABBOTT,  BETTY L</td>\n",
       "      <td>                            FOSTER GRANDPARENT</td>\n",
       "      <td> FAMILY &amp; SUPPORT</td>\n",
       "      <td>   $2756.00</td>\n",
       "    </tr>\n",
       "    <tr>\n",
       "      <th>13   </th>\n",
       "      <td>        ABBOTT,  LYNISE M</td>\n",
       "      <td>                                     CLERK III</td>\n",
       "      <td>           POLICE</td>\n",
       "      <td>  $46896.00</td>\n",
       "    </tr>\n",
       "    <tr>\n",
       "      <th>14   </th>\n",
       "      <td>   ABBRUZZESE,  WILLIAM J</td>\n",
       "      <td>                        INVESTIGATOR - IPRA II</td>\n",
       "      <td>             IPRA</td>\n",
       "      <td>  $73920.00</td>\n",
       "    </tr>\n",
       "    <tr>\n",
       "      <th>15   </th>\n",
       "      <td>          ABDALLAH,  ZAID</td>\n",
       "      <td>                                POLICE OFFICER</td>\n",
       "      <td>           POLICE</td>\n",
       "      <td>  $74028.00</td>\n",
       "    </tr>\n",
       "    <tr>\n",
       "      <th>16   </th>\n",
       "      <td>    ABDELHADI,  ABDALMAHD</td>\n",
       "      <td>                                POLICE OFFICER</td>\n",
       "      <td>           POLICE</td>\n",
       "      <td>  $81588.00</td>\n",
       "    </tr>\n",
       "    <tr>\n",
       "      <th>17   </th>\n",
       "      <td>      ABDELLATIF,  AREF R</td>\n",
       "      <td> FIREFIGHTER (PER ARBITRATORS AWARD)-PARAMEDIC</td>\n",
       "      <td>             FIRE</td>\n",
       "      <td>  $99228.00</td>\n",
       "    </tr>\n",
       "    <tr>\n",
       "      <th>18   </th>\n",
       "      <td>       ABDELMAJEID,  AZIZ</td>\n",
       "      <td>                                POLICE OFFICER</td>\n",
       "      <td>           POLICE</td>\n",
       "      <td>  $81588.00</td>\n",
       "    </tr>\n",
       "    <tr>\n",
       "      <th>19   </th>\n",
       "      <td>      ABDOLLAHZADEH,  ALI</td>\n",
       "      <td>                         FIREFIGHTER/PARAMEDIC</td>\n",
       "      <td>             FIRE</td>\n",
       "      <td>  $88596.00</td>\n",
       "    </tr>\n",
       "    <tr>\n",
       "      <th>20   </th>\n",
       "      <td> ABDUL-KARIM,  MUHAMMAD A</td>\n",
       "      <td>                     ENGINEERING TECHNICIAN VI</td>\n",
       "      <td>      WATER MGMNT</td>\n",
       "      <td> $108228.00</td>\n",
       "    </tr>\n",
       "    <tr>\n",
       "      <th>21   </th>\n",
       "      <td>      ABDULLAH,  DANIEL N</td>\n",
       "      <td>                               FIREFIGHTER-EMT</td>\n",
       "      <td>             FIRE</td>\n",
       "      <td>  $92682.00</td>\n",
       "    </tr>\n",
       "    <tr>\n",
       "      <th>22   </th>\n",
       "      <td>         ABDULLAH,  KEVIN</td>\n",
       "      <td>                                    LIEUTENANT</td>\n",
       "      <td>             FIRE</td>\n",
       "      <td> $111474.00</td>\n",
       "    </tr>\n",
       "    <tr>\n",
       "      <th>23   </th>\n",
       "      <td>     ABDULLAH,  LAKENYA N</td>\n",
       "      <td>                                CROSSING GUARD</td>\n",
       "      <td>             OEMC</td>\n",
       "      <td>  $17846.40</td>\n",
       "    </tr>\n",
       "    <tr>\n",
       "      <th>24   </th>\n",
       "      <td>      ABDULLAH,  RASHAD J</td>\n",
       "      <td>       ELECTRICAL MECHANIC-AUTO-POLICE MTR MNT</td>\n",
       "      <td> GENERAL SERVICES</td>\n",
       "      <td>  $93600.00</td>\n",
       "    </tr>\n",
       "    <tr>\n",
       "      <th>25   </th>\n",
       "      <td>     ABDULSATTAR,  MUDHAR</td>\n",
       "      <td>                             CIVIL ENGINEER II</td>\n",
       "      <td>      WATER MGMNT</td>\n",
       "      <td>  $58536.00</td>\n",
       "    </tr>\n",
       "    <tr>\n",
       "      <th>26   </th>\n",
       "      <td>     ABDUL-SHAKUR,  TAHIR</td>\n",
       "      <td>                         GENERAL LABORER - DSS</td>\n",
       "      <td>    STREETS &amp; SAN</td>\n",
       "      <td>  $41849.60</td>\n",
       "    </tr>\n",
       "    <tr>\n",
       "      <th>27   </th>\n",
       "      <td>   ABDULWAHAB,  ABUUBAIDA</td>\n",
       "      <td>                            FOSTER GRANDPARENT</td>\n",
       "      <td> FAMILY &amp; SUPPORT</td>\n",
       "      <td>   $2756.00</td>\n",
       "    </tr>\n",
       "    <tr>\n",
       "      <th>28   </th>\n",
       "      <td>        ABEJERO,  JASON V</td>\n",
       "      <td>                                POLICE OFFICER</td>\n",
       "      <td>           POLICE</td>\n",
       "      <td>  $87384.00</td>\n",
       "    </tr>\n",
       "    <tr>\n",
       "      <th>29   </th>\n",
       "      <td>  ABERCROMBIE IV,  EARL S</td>\n",
       "      <td>                                     PARAMEDIC</td>\n",
       "      <td>             FIRE</td>\n",
       "      <td>  $70380.00</td>\n",
       "    </tr>\n",
       "    <tr>\n",
       "      <th>...</th>\n",
       "      <td>...</td>\n",
       "      <td>...</td>\n",
       "      <td>...</td>\n",
       "      <td>...</td>\n",
       "    </tr>\n",
       "    <tr>\n",
       "      <th>32033</th>\n",
       "      <td>          ZUNIGA,  JUAN M</td>\n",
       "      <td>                                POLICE OFFICER</td>\n",
       "      <td>           POLICE</td>\n",
       "      <td>  $84450.00</td>\n",
       "    </tr>\n",
       "    <tr>\n",
       "      <th>32034</th>\n",
       "      <td>           ZUNIGA,  OSCAR</td>\n",
       "      <td>                                POLICE OFFICER</td>\n",
       "      <td>           POLICE</td>\n",
       "      <td>  $74028.00</td>\n",
       "    </tr>\n",
       "    <tr>\n",
       "      <th>32035</th>\n",
       "      <td>          ZUNIGA,  RONALD</td>\n",
       "      <td>                                POLICE OFFICER</td>\n",
       "      <td>           POLICE</td>\n",
       "      <td>  $87384.00</td>\n",
       "    </tr>\n",
       "    <tr>\n",
       "      <th>32036</th>\n",
       "      <td>          ZUNIGA,  THOMAS</td>\n",
       "      <td>                         GENERAL LABORER - DSS</td>\n",
       "      <td>    STREETS &amp; SAN</td>\n",
       "      <td>  $43201.60</td>\n",
       "    </tr>\n",
       "    <tr>\n",
       "      <th>32037</th>\n",
       "      <td>         ZUNIGA,  VICENTE</td>\n",
       "      <td>                               FIREFIGHTER-EMT</td>\n",
       "      <td>             FIRE</td>\n",
       "      <td>  $89568.00</td>\n",
       "    </tr>\n",
       "    <tr>\n",
       "      <th>32038</th>\n",
       "      <td>              ZUNO,  ERIK</td>\n",
       "      <td>                          LABORER - APPRENTICE</td>\n",
       "      <td>      WATER MGMNT</td>\n",
       "      <td>  $73382.40</td>\n",
       "    </tr>\n",
       "    <tr>\n",
       "      <th>32039</th>\n",
       "      <td>           ZUPAN,  BILL M</td>\n",
       "      <td>                                LIEUTENANT-EMT</td>\n",
       "      <td>             FIRE</td>\n",
       "      <td> $107592.00</td>\n",
       "    </tr>\n",
       "    <tr>\n",
       "      <th>32040</th>\n",
       "      <td>         ZUPANCIC,  KELLY</td>\n",
       "      <td>                                POLICE OFFICER</td>\n",
       "      <td>           POLICE</td>\n",
       "      <td>  $66606.00</td>\n",
       "    </tr>\n",
       "    <tr>\n",
       "      <th>32041</th>\n",
       "      <td>       ZURAWSKI,  CAROL A</td>\n",
       "      <td>                                CROSSING GUARD</td>\n",
       "      <td>             OEMC</td>\n",
       "      <td>  $22568.00</td>\n",
       "    </tr>\n",
       "    <tr>\n",
       "      <th>32042</th>\n",
       "      <td>       ZURAWSKI,  JEFFREY</td>\n",
       "      <td>                FRM OF MACHINISTS - AUTOMOTIVE</td>\n",
       "      <td> GENERAL SERVICES</td>\n",
       "      <td>  $99528.00</td>\n",
       "    </tr>\n",
       "    <tr>\n",
       "      <th>32043</th>\n",
       "      <td>         ZURAWSKI,  MAC Z</td>\n",
       "      <td>                            SANITATION LABORER</td>\n",
       "      <td>    STREETS &amp; SAN</td>\n",
       "      <td>  $73840.00</td>\n",
       "    </tr>\n",
       "    <tr>\n",
       "      <th>32044</th>\n",
       "      <td>        ZURAWSKI,  MARY E</td>\n",
       "      <td>                                POLICE OFFICER</td>\n",
       "      <td>           POLICE</td>\n",
       "      <td>  $90618.00</td>\n",
       "    </tr>\n",
       "    <tr>\n",
       "      <th>32045</th>\n",
       "      <td>          ZUREK,  FRANCIS</td>\n",
       "      <td>                           ELECTRICAL MECHANIC</td>\n",
       "      <td>             OEMC</td>\n",
       "      <td>  $93600.00</td>\n",
       "    </tr>\n",
       "    <tr>\n",
       "      <th>32046</th>\n",
       "      <td>           ZUREK,  MARY H</td>\n",
       "      <td>             SENIOR PUBLIC INFORMATION OFFICER</td>\n",
       "      <td>          FINANCE</td>\n",
       "      <td>  $83340.00</td>\n",
       "    </tr>\n",
       "    <tr>\n",
       "      <th>32047</th>\n",
       "      <td>          ZURITA,  ADRIEL</td>\n",
       "      <td>                                POLICE OFFICER</td>\n",
       "      <td>           POLICE</td>\n",
       "      <td>  $66606.00</td>\n",
       "    </tr>\n",
       "    <tr>\n",
       "      <th>32048</th>\n",
       "      <td>          ZVANJA,  TINA M</td>\n",
       "      <td>                               LEGAL SECRETARY</td>\n",
       "      <td>              LAW</td>\n",
       "      <td>  $71292.00</td>\n",
       "    </tr>\n",
       "    <tr>\n",
       "      <th>32049</th>\n",
       "      <td>   ZWARYCZ MANN,  IRENE A</td>\n",
       "      <td>                                CROSSING GUARD</td>\n",
       "      <td>             OEMC</td>\n",
       "      <td>  $17024.80</td>\n",
       "    </tr>\n",
       "    <tr>\n",
       "      <th>32050</th>\n",
       "      <td>       ZWARYCZ,  THOMAS J</td>\n",
       "      <td>                       POOL MOTOR TRUCK DRIVER</td>\n",
       "      <td>      WATER MGMNT</td>\n",
       "      <td>  $72862.40</td>\n",
       "    </tr>\n",
       "    <tr>\n",
       "      <th>32051</th>\n",
       "      <td>       ZWIESLER,  MATTHEW</td>\n",
       "      <td>                   AIRPORT OPERATIONS SUPVSR I</td>\n",
       "      <td>         AVIATION</td>\n",
       "      <td>  $75384.00</td>\n",
       "    </tr>\n",
       "    <tr>\n",
       "      <th>32052</th>\n",
       "      <td>         ZWIT,  JEFFREY J</td>\n",
       "      <td>                                POLICE OFFICER</td>\n",
       "      <td>           POLICE</td>\n",
       "      <td>  $84450.00</td>\n",
       "    </tr>\n",
       "    <tr>\n",
       "      <th>32053</th>\n",
       "      <td>      ZWOLFER,  MATTHEW W</td>\n",
       "      <td>                               FIREFIGHTER-EMT</td>\n",
       "      <td>             FIRE</td>\n",
       "      <td>  $92682.00</td>\n",
       "    </tr>\n",
       "    <tr>\n",
       "      <th>32054</th>\n",
       "      <td>           ZYCH,  MATEUSZ</td>\n",
       "      <td>                                POLICE OFFICER</td>\n",
       "      <td>           POLICE</td>\n",
       "      <td>  $46668.00</td>\n",
       "    </tr>\n",
       "    <tr>\n",
       "      <th>32055</th>\n",
       "      <td>            ZYDEK,  BRYAN</td>\n",
       "      <td>                                POLICE OFFICER</td>\n",
       "      <td>           POLICE</td>\n",
       "      <td>  $81588.00</td>\n",
       "    </tr>\n",
       "    <tr>\n",
       "      <th>32056</th>\n",
       "      <td>         ZYGADLO,  JOHN P</td>\n",
       "      <td>                        MACHINIST (AUTOMOTIVE)</td>\n",
       "      <td> GENERAL SERVICES</td>\n",
       "      <td>  $94328.00</td>\n",
       "    </tr>\n",
       "    <tr>\n",
       "      <th>32057</th>\n",
       "      <td>      ZYGADLO,  MICHAEL J</td>\n",
       "      <td>                FRM OF MACHINISTS - AUTOMOTIVE</td>\n",
       "      <td> GENERAL SERVICES</td>\n",
       "      <td>  $99528.00</td>\n",
       "    </tr>\n",
       "    <tr>\n",
       "      <th>32058</th>\n",
       "      <td>       ZYGOWICZ,  PETER J</td>\n",
       "      <td>                                POLICE OFFICER</td>\n",
       "      <td>           POLICE</td>\n",
       "      <td>  $87384.00</td>\n",
       "    </tr>\n",
       "    <tr>\n",
       "      <th>32059</th>\n",
       "      <td>        ZYMANTAS,  MARK E</td>\n",
       "      <td>                                POLICE OFFICER</td>\n",
       "      <td>           POLICE</td>\n",
       "      <td>  $84450.00</td>\n",
       "    </tr>\n",
       "    <tr>\n",
       "      <th>32060</th>\n",
       "      <td>      ZYRKOWSKI,  CARLO E</td>\n",
       "      <td>                                POLICE OFFICER</td>\n",
       "      <td>           POLICE</td>\n",
       "      <td>  $87384.00</td>\n",
       "    </tr>\n",
       "    <tr>\n",
       "      <th>32061</th>\n",
       "      <td>      ZYSKOWSKI,  DARIUSZ</td>\n",
       "      <td>                       CHIEF DATA BASE ANALYST</td>\n",
       "      <td>             DoIT</td>\n",
       "      <td> $113664.00</td>\n",
       "    </tr>\n",
       "    <tr>\n",
       "      <th>32062</th>\n",
       "      <td>                      NaN</td>\n",
       "      <td>                                           NaN</td>\n",
       "      <td>              NaN</td>\n",
       "      <td>        NaN</td>\n",
       "    </tr>\n",
       "  </tbody>\n",
       "</table>\n",
       "<p>32063 rows × 4 columns</p>\n",
       "</div>"
      ],
      "text/plain": [
       "                           Name  \\\n",
       "0               AARON,  ELVIA J   \n",
       "1             AARON,  JEFFERY M   \n",
       "2                AARON,  KARINA   \n",
       "3           AARON,  KIMBERLEI R   \n",
       "4           ABAD JR,  VICENTE M   \n",
       "5               ABARCA,  ANABEL   \n",
       "6             ABARCA,  EMMANUEL   \n",
       "7             ABASCAL,  REECE E   \n",
       "8          ABBASI,  CHRISTOPHER   \n",
       "9         ABBATACOLA,  ROBERT J   \n",
       "10        ABBATEMARCO,  JAMES J   \n",
       "11             ABBATE,  TERRY M   \n",
       "12             ABBOTT,  BETTY L   \n",
       "13            ABBOTT,  LYNISE M   \n",
       "14       ABBRUZZESE,  WILLIAM J   \n",
       "15              ABDALLAH,  ZAID   \n",
       "16        ABDELHADI,  ABDALMAHD   \n",
       "17          ABDELLATIF,  AREF R   \n",
       "18           ABDELMAJEID,  AZIZ   \n",
       "19          ABDOLLAHZADEH,  ALI   \n",
       "20     ABDUL-KARIM,  MUHAMMAD A   \n",
       "21          ABDULLAH,  DANIEL N   \n",
       "22             ABDULLAH,  KEVIN   \n",
       "23         ABDULLAH,  LAKENYA N   \n",
       "24          ABDULLAH,  RASHAD J   \n",
       "25         ABDULSATTAR,  MUDHAR   \n",
       "26         ABDUL-SHAKUR,  TAHIR   \n",
       "27       ABDULWAHAB,  ABUUBAIDA   \n",
       "28            ABEJERO,  JASON V   \n",
       "29      ABERCROMBIE IV,  EARL S   \n",
       "...                         ...   \n",
       "32033           ZUNIGA,  JUAN M   \n",
       "32034            ZUNIGA,  OSCAR   \n",
       "32035           ZUNIGA,  RONALD   \n",
       "32036           ZUNIGA,  THOMAS   \n",
       "32037          ZUNIGA,  VICENTE   \n",
       "32038               ZUNO,  ERIK   \n",
       "32039            ZUPAN,  BILL M   \n",
       "32040          ZUPANCIC,  KELLY   \n",
       "32041        ZURAWSKI,  CAROL A   \n",
       "32042        ZURAWSKI,  JEFFREY   \n",
       "32043          ZURAWSKI,  MAC Z   \n",
       "32044         ZURAWSKI,  MARY E   \n",
       "32045           ZUREK,  FRANCIS   \n",
       "32046            ZUREK,  MARY H   \n",
       "32047           ZURITA,  ADRIEL   \n",
       "32048           ZVANJA,  TINA M   \n",
       "32049    ZWARYCZ MANN,  IRENE A   \n",
       "32050        ZWARYCZ,  THOMAS J   \n",
       "32051        ZWIESLER,  MATTHEW   \n",
       "32052          ZWIT,  JEFFREY J   \n",
       "32053       ZWOLFER,  MATTHEW W   \n",
       "32054            ZYCH,  MATEUSZ   \n",
       "32055             ZYDEK,  BRYAN   \n",
       "32056          ZYGADLO,  JOHN P   \n",
       "32057       ZYGADLO,  MICHAEL J   \n",
       "32058        ZYGOWICZ,  PETER J   \n",
       "32059         ZYMANTAS,  MARK E   \n",
       "32060       ZYRKOWSKI,  CARLO E   \n",
       "32061       ZYSKOWSKI,  DARIUSZ   \n",
       "32062                       NaN   \n",
       "\n",
       "                                      Position Title        Department  \\\n",
       "0                                   WATER RATE TAKER       WATER MGMNT   \n",
       "1                                     POLICE OFFICER            POLICE   \n",
       "2                                     POLICE OFFICER            POLICE   \n",
       "3                           CHIEF CONTRACT EXPEDITER  GENERAL SERVICES   \n",
       "4                                  CIVIL ENGINEER IV       WATER MGMNT   \n",
       "5                               ASST TO THE ALDERMAN      CITY COUNCIL   \n",
       "6                              GENERAL LABORER - DSS     STREETS & SAN   \n",
       "7                        TRAFFIC CONTROL AIDE-HOURLY              OEMC   \n",
       "8                         STAFF ASST TO THE ALDERMAN      CITY COUNCIL   \n",
       "9                                ELECTRICAL MECHANIC          AVIATION   \n",
       "10                                 FIRE ENGINEER-EMT              FIRE   \n",
       "11                                    POLICE OFFICER            POLICE   \n",
       "12                                FOSTER GRANDPARENT  FAMILY & SUPPORT   \n",
       "13                                         CLERK III            POLICE   \n",
       "14                            INVESTIGATOR - IPRA II              IPRA   \n",
       "15                                    POLICE OFFICER            POLICE   \n",
       "16                                    POLICE OFFICER            POLICE   \n",
       "17     FIREFIGHTER (PER ARBITRATORS AWARD)-PARAMEDIC              FIRE   \n",
       "18                                    POLICE OFFICER            POLICE   \n",
       "19                             FIREFIGHTER/PARAMEDIC              FIRE   \n",
       "20                         ENGINEERING TECHNICIAN VI       WATER MGMNT   \n",
       "21                                   FIREFIGHTER-EMT              FIRE   \n",
       "22                                        LIEUTENANT              FIRE   \n",
       "23                                    CROSSING GUARD              OEMC   \n",
       "24           ELECTRICAL MECHANIC-AUTO-POLICE MTR MNT  GENERAL SERVICES   \n",
       "25                                 CIVIL ENGINEER II       WATER MGMNT   \n",
       "26                             GENERAL LABORER - DSS     STREETS & SAN   \n",
       "27                                FOSTER GRANDPARENT  FAMILY & SUPPORT   \n",
       "28                                    POLICE OFFICER            POLICE   \n",
       "29                                         PARAMEDIC              FIRE   \n",
       "...                                              ...               ...   \n",
       "32033                                 POLICE OFFICER            POLICE   \n",
       "32034                                 POLICE OFFICER            POLICE   \n",
       "32035                                 POLICE OFFICER            POLICE   \n",
       "32036                          GENERAL LABORER - DSS     STREETS & SAN   \n",
       "32037                                FIREFIGHTER-EMT              FIRE   \n",
       "32038                           LABORER - APPRENTICE       WATER MGMNT   \n",
       "32039                                 LIEUTENANT-EMT              FIRE   \n",
       "32040                                 POLICE OFFICER            POLICE   \n",
       "32041                                 CROSSING GUARD              OEMC   \n",
       "32042                 FRM OF MACHINISTS - AUTOMOTIVE  GENERAL SERVICES   \n",
       "32043                             SANITATION LABORER     STREETS & SAN   \n",
       "32044                                 POLICE OFFICER            POLICE   \n",
       "32045                            ELECTRICAL MECHANIC              OEMC   \n",
       "32046              SENIOR PUBLIC INFORMATION OFFICER           FINANCE   \n",
       "32047                                 POLICE OFFICER            POLICE   \n",
       "32048                                LEGAL SECRETARY               LAW   \n",
       "32049                                 CROSSING GUARD              OEMC   \n",
       "32050                        POOL MOTOR TRUCK DRIVER       WATER MGMNT   \n",
       "32051                    AIRPORT OPERATIONS SUPVSR I          AVIATION   \n",
       "32052                                 POLICE OFFICER            POLICE   \n",
       "32053                                FIREFIGHTER-EMT              FIRE   \n",
       "32054                                 POLICE OFFICER            POLICE   \n",
       "32055                                 POLICE OFFICER            POLICE   \n",
       "32056                         MACHINIST (AUTOMOTIVE)  GENERAL SERVICES   \n",
       "32057                 FRM OF MACHINISTS - AUTOMOTIVE  GENERAL SERVICES   \n",
       "32058                                 POLICE OFFICER            POLICE   \n",
       "32059                                 POLICE OFFICER            POLICE   \n",
       "32060                                 POLICE OFFICER            POLICE   \n",
       "32061                        CHIEF DATA BASE ANALYST              DoIT   \n",
       "32062                                            NaN               NaN   \n",
       "\n",
       "      Employee Annual Salary  \n",
       "0                  $90744.00  \n",
       "1                  $84450.00  \n",
       "2                  $84450.00  \n",
       "3                  $89880.00  \n",
       "4                 $106836.00  \n",
       "5                  $70764.00  \n",
       "6                  $41849.60  \n",
       "7                  $20051.20  \n",
       "8                  $49452.00  \n",
       "9                  $93600.00  \n",
       "10                $100320.00  \n",
       "11                 $90618.00  \n",
       "12                  $2756.00  \n",
       "13                 $46896.00  \n",
       "14                 $73920.00  \n",
       "15                 $74028.00  \n",
       "16                 $81588.00  \n",
       "17                 $99228.00  \n",
       "18                 $81588.00  \n",
       "19                 $88596.00  \n",
       "20                $108228.00  \n",
       "21                 $92682.00  \n",
       "22                $111474.00  \n",
       "23                 $17846.40  \n",
       "24                 $93600.00  \n",
       "25                 $58536.00  \n",
       "26                 $41849.60  \n",
       "27                  $2756.00  \n",
       "28                 $87384.00  \n",
       "29                 $70380.00  \n",
       "...                      ...  \n",
       "32033              $84450.00  \n",
       "32034              $74028.00  \n",
       "32035              $87384.00  \n",
       "32036              $43201.60  \n",
       "32037              $89568.00  \n",
       "32038              $73382.40  \n",
       "32039             $107592.00  \n",
       "32040              $66606.00  \n",
       "32041              $22568.00  \n",
       "32042              $99528.00  \n",
       "32043              $73840.00  \n",
       "32044              $90618.00  \n",
       "32045              $93600.00  \n",
       "32046              $83340.00  \n",
       "32047              $66606.00  \n",
       "32048              $71292.00  \n",
       "32049              $17024.80  \n",
       "32050              $72862.40  \n",
       "32051              $75384.00  \n",
       "32052              $84450.00  \n",
       "32053              $92682.00  \n",
       "32054              $46668.00  \n",
       "32055              $81588.00  \n",
       "32056              $94328.00  \n",
       "32057              $99528.00  \n",
       "32058              $87384.00  \n",
       "32059              $84450.00  \n",
       "32060              $87384.00  \n",
       "32061             $113664.00  \n",
       "32062                    NaN  \n",
       "\n",
       "[32063 rows x 4 columns]"
      ]
     },
     "execution_count": 3,
     "metadata": {},
     "output_type": "execute_result"
    }
   ],
   "source": [
    "df"
   ]
  },
  {
   "cell_type": "markdown",
   "metadata": {},
   "source": [
    "There is at least one row filled with 'NaN's -- let's drop all rows with NaNs present\n",
    "----"
   ]
  },
  {
   "cell_type": "code",
   "execution_count": 4,
   "metadata": {
    "collapsed": false
   },
   "outputs": [
    {
     "data": {
      "text/html": [
       "<div style=\"max-height:1000px;max-width:1500px;overflow:auto;\">\n",
       "<table border=\"1\" class=\"dataframe\">\n",
       "  <thead>\n",
       "    <tr style=\"text-align: right;\">\n",
       "      <th></th>\n",
       "      <th>Name</th>\n",
       "      <th>Position Title</th>\n",
       "      <th>Department</th>\n",
       "      <th>Employee Annual Salary</th>\n",
       "    </tr>\n",
       "  </thead>\n",
       "  <tbody>\n",
       "    <tr>\n",
       "      <th>0    </th>\n",
       "      <td>          AARON,  ELVIA J</td>\n",
       "      <td>                              WATER RATE TAKER</td>\n",
       "      <td>      WATER MGMNT</td>\n",
       "      <td>  $90744.00</td>\n",
       "    </tr>\n",
       "    <tr>\n",
       "      <th>1    </th>\n",
       "      <td>        AARON,  JEFFERY M</td>\n",
       "      <td>                                POLICE OFFICER</td>\n",
       "      <td>           POLICE</td>\n",
       "      <td>  $84450.00</td>\n",
       "    </tr>\n",
       "    <tr>\n",
       "      <th>2    </th>\n",
       "      <td>           AARON,  KARINA</td>\n",
       "      <td>                                POLICE OFFICER</td>\n",
       "      <td>           POLICE</td>\n",
       "      <td>  $84450.00</td>\n",
       "    </tr>\n",
       "    <tr>\n",
       "      <th>3    </th>\n",
       "      <td>      AARON,  KIMBERLEI R</td>\n",
       "      <td>                      CHIEF CONTRACT EXPEDITER</td>\n",
       "      <td> GENERAL SERVICES</td>\n",
       "      <td>  $89880.00</td>\n",
       "    </tr>\n",
       "    <tr>\n",
       "      <th>4    </th>\n",
       "      <td>      ABAD JR,  VICENTE M</td>\n",
       "      <td>                             CIVIL ENGINEER IV</td>\n",
       "      <td>      WATER MGMNT</td>\n",
       "      <td> $106836.00</td>\n",
       "    </tr>\n",
       "    <tr>\n",
       "      <th>5    </th>\n",
       "      <td>          ABARCA,  ANABEL</td>\n",
       "      <td>                          ASST TO THE ALDERMAN</td>\n",
       "      <td>     CITY COUNCIL</td>\n",
       "      <td>  $70764.00</td>\n",
       "    </tr>\n",
       "    <tr>\n",
       "      <th>6    </th>\n",
       "      <td>        ABARCA,  EMMANUEL</td>\n",
       "      <td>                         GENERAL LABORER - DSS</td>\n",
       "      <td>    STREETS &amp; SAN</td>\n",
       "      <td>  $41849.60</td>\n",
       "    </tr>\n",
       "    <tr>\n",
       "      <th>7    </th>\n",
       "      <td>        ABASCAL,  REECE E</td>\n",
       "      <td>                   TRAFFIC CONTROL AIDE-HOURLY</td>\n",
       "      <td>             OEMC</td>\n",
       "      <td>  $20051.20</td>\n",
       "    </tr>\n",
       "    <tr>\n",
       "      <th>8    </th>\n",
       "      <td>     ABBASI,  CHRISTOPHER</td>\n",
       "      <td>                    STAFF ASST TO THE ALDERMAN</td>\n",
       "      <td>     CITY COUNCIL</td>\n",
       "      <td>  $49452.00</td>\n",
       "    </tr>\n",
       "    <tr>\n",
       "      <th>9    </th>\n",
       "      <td>    ABBATACOLA,  ROBERT J</td>\n",
       "      <td>                           ELECTRICAL MECHANIC</td>\n",
       "      <td>         AVIATION</td>\n",
       "      <td>  $93600.00</td>\n",
       "    </tr>\n",
       "    <tr>\n",
       "      <th>10   </th>\n",
       "      <td>    ABBATEMARCO,  JAMES J</td>\n",
       "      <td>                             FIRE ENGINEER-EMT</td>\n",
       "      <td>             FIRE</td>\n",
       "      <td> $100320.00</td>\n",
       "    </tr>\n",
       "    <tr>\n",
       "      <th>11   </th>\n",
       "      <td>         ABBATE,  TERRY M</td>\n",
       "      <td>                                POLICE OFFICER</td>\n",
       "      <td>           POLICE</td>\n",
       "      <td>  $90618.00</td>\n",
       "    </tr>\n",
       "    <tr>\n",
       "      <th>12   </th>\n",
       "      <td>         ABBOTT,  BETTY L</td>\n",
       "      <td>                            FOSTER GRANDPARENT</td>\n",
       "      <td> FAMILY &amp; SUPPORT</td>\n",
       "      <td>   $2756.00</td>\n",
       "    </tr>\n",
       "    <tr>\n",
       "      <th>13   </th>\n",
       "      <td>        ABBOTT,  LYNISE M</td>\n",
       "      <td>                                     CLERK III</td>\n",
       "      <td>           POLICE</td>\n",
       "      <td>  $46896.00</td>\n",
       "    </tr>\n",
       "    <tr>\n",
       "      <th>14   </th>\n",
       "      <td>   ABBRUZZESE,  WILLIAM J</td>\n",
       "      <td>                        INVESTIGATOR - IPRA II</td>\n",
       "      <td>             IPRA</td>\n",
       "      <td>  $73920.00</td>\n",
       "    </tr>\n",
       "    <tr>\n",
       "      <th>15   </th>\n",
       "      <td>          ABDALLAH,  ZAID</td>\n",
       "      <td>                                POLICE OFFICER</td>\n",
       "      <td>           POLICE</td>\n",
       "      <td>  $74028.00</td>\n",
       "    </tr>\n",
       "    <tr>\n",
       "      <th>16   </th>\n",
       "      <td>    ABDELHADI,  ABDALMAHD</td>\n",
       "      <td>                                POLICE OFFICER</td>\n",
       "      <td>           POLICE</td>\n",
       "      <td>  $81588.00</td>\n",
       "    </tr>\n",
       "    <tr>\n",
       "      <th>17   </th>\n",
       "      <td>      ABDELLATIF,  AREF R</td>\n",
       "      <td> FIREFIGHTER (PER ARBITRATORS AWARD)-PARAMEDIC</td>\n",
       "      <td>             FIRE</td>\n",
       "      <td>  $99228.00</td>\n",
       "    </tr>\n",
       "    <tr>\n",
       "      <th>18   </th>\n",
       "      <td>       ABDELMAJEID,  AZIZ</td>\n",
       "      <td>                                POLICE OFFICER</td>\n",
       "      <td>           POLICE</td>\n",
       "      <td>  $81588.00</td>\n",
       "    </tr>\n",
       "    <tr>\n",
       "      <th>19   </th>\n",
       "      <td>      ABDOLLAHZADEH,  ALI</td>\n",
       "      <td>                         FIREFIGHTER/PARAMEDIC</td>\n",
       "      <td>             FIRE</td>\n",
       "      <td>  $88596.00</td>\n",
       "    </tr>\n",
       "    <tr>\n",
       "      <th>20   </th>\n",
       "      <td> ABDUL-KARIM,  MUHAMMAD A</td>\n",
       "      <td>                     ENGINEERING TECHNICIAN VI</td>\n",
       "      <td>      WATER MGMNT</td>\n",
       "      <td> $108228.00</td>\n",
       "    </tr>\n",
       "    <tr>\n",
       "      <th>21   </th>\n",
       "      <td>      ABDULLAH,  DANIEL N</td>\n",
       "      <td>                               FIREFIGHTER-EMT</td>\n",
       "      <td>             FIRE</td>\n",
       "      <td>  $92682.00</td>\n",
       "    </tr>\n",
       "    <tr>\n",
       "      <th>22   </th>\n",
       "      <td>         ABDULLAH,  KEVIN</td>\n",
       "      <td>                                    LIEUTENANT</td>\n",
       "      <td>             FIRE</td>\n",
       "      <td> $111474.00</td>\n",
       "    </tr>\n",
       "    <tr>\n",
       "      <th>23   </th>\n",
       "      <td>     ABDULLAH,  LAKENYA N</td>\n",
       "      <td>                                CROSSING GUARD</td>\n",
       "      <td>             OEMC</td>\n",
       "      <td>  $17846.40</td>\n",
       "    </tr>\n",
       "    <tr>\n",
       "      <th>24   </th>\n",
       "      <td>      ABDULLAH,  RASHAD J</td>\n",
       "      <td>       ELECTRICAL MECHANIC-AUTO-POLICE MTR MNT</td>\n",
       "      <td> GENERAL SERVICES</td>\n",
       "      <td>  $93600.00</td>\n",
       "    </tr>\n",
       "    <tr>\n",
       "      <th>25   </th>\n",
       "      <td>     ABDULSATTAR,  MUDHAR</td>\n",
       "      <td>                             CIVIL ENGINEER II</td>\n",
       "      <td>      WATER MGMNT</td>\n",
       "      <td>  $58536.00</td>\n",
       "    </tr>\n",
       "    <tr>\n",
       "      <th>26   </th>\n",
       "      <td>     ABDUL-SHAKUR,  TAHIR</td>\n",
       "      <td>                         GENERAL LABORER - DSS</td>\n",
       "      <td>    STREETS &amp; SAN</td>\n",
       "      <td>  $41849.60</td>\n",
       "    </tr>\n",
       "    <tr>\n",
       "      <th>27   </th>\n",
       "      <td>   ABDULWAHAB,  ABUUBAIDA</td>\n",
       "      <td>                            FOSTER GRANDPARENT</td>\n",
       "      <td> FAMILY &amp; SUPPORT</td>\n",
       "      <td>   $2756.00</td>\n",
       "    </tr>\n",
       "    <tr>\n",
       "      <th>28   </th>\n",
       "      <td>        ABEJERO,  JASON V</td>\n",
       "      <td>                                POLICE OFFICER</td>\n",
       "      <td>           POLICE</td>\n",
       "      <td>  $87384.00</td>\n",
       "    </tr>\n",
       "    <tr>\n",
       "      <th>29   </th>\n",
       "      <td>  ABERCROMBIE IV,  EARL S</td>\n",
       "      <td>                                     PARAMEDIC</td>\n",
       "      <td>             FIRE</td>\n",
       "      <td>  $70380.00</td>\n",
       "    </tr>\n",
       "    <tr>\n",
       "      <th>...</th>\n",
       "      <td>...</td>\n",
       "      <td>...</td>\n",
       "      <td>...</td>\n",
       "      <td>...</td>\n",
       "    </tr>\n",
       "    <tr>\n",
       "      <th>32032</th>\n",
       "      <td>        ZUNIGA JR,  JAMES</td>\n",
       "      <td>                              GARAGE ATTENDANT</td>\n",
       "      <td> GENERAL SERVICES</td>\n",
       "      <td>  $47528.00</td>\n",
       "    </tr>\n",
       "    <tr>\n",
       "      <th>32033</th>\n",
       "      <td>          ZUNIGA,  JUAN M</td>\n",
       "      <td>                                POLICE OFFICER</td>\n",
       "      <td>           POLICE</td>\n",
       "      <td>  $84450.00</td>\n",
       "    </tr>\n",
       "    <tr>\n",
       "      <th>32034</th>\n",
       "      <td>           ZUNIGA,  OSCAR</td>\n",
       "      <td>                                POLICE OFFICER</td>\n",
       "      <td>           POLICE</td>\n",
       "      <td>  $74028.00</td>\n",
       "    </tr>\n",
       "    <tr>\n",
       "      <th>32035</th>\n",
       "      <td>          ZUNIGA,  RONALD</td>\n",
       "      <td>                                POLICE OFFICER</td>\n",
       "      <td>           POLICE</td>\n",
       "      <td>  $87384.00</td>\n",
       "    </tr>\n",
       "    <tr>\n",
       "      <th>32036</th>\n",
       "      <td>          ZUNIGA,  THOMAS</td>\n",
       "      <td>                         GENERAL LABORER - DSS</td>\n",
       "      <td>    STREETS &amp; SAN</td>\n",
       "      <td>  $43201.60</td>\n",
       "    </tr>\n",
       "    <tr>\n",
       "      <th>32037</th>\n",
       "      <td>         ZUNIGA,  VICENTE</td>\n",
       "      <td>                               FIREFIGHTER-EMT</td>\n",
       "      <td>             FIRE</td>\n",
       "      <td>  $89568.00</td>\n",
       "    </tr>\n",
       "    <tr>\n",
       "      <th>32038</th>\n",
       "      <td>              ZUNO,  ERIK</td>\n",
       "      <td>                          LABORER - APPRENTICE</td>\n",
       "      <td>      WATER MGMNT</td>\n",
       "      <td>  $73382.40</td>\n",
       "    </tr>\n",
       "    <tr>\n",
       "      <th>32039</th>\n",
       "      <td>           ZUPAN,  BILL M</td>\n",
       "      <td>                                LIEUTENANT-EMT</td>\n",
       "      <td>             FIRE</td>\n",
       "      <td> $107592.00</td>\n",
       "    </tr>\n",
       "    <tr>\n",
       "      <th>32040</th>\n",
       "      <td>         ZUPANCIC,  KELLY</td>\n",
       "      <td>                                POLICE OFFICER</td>\n",
       "      <td>           POLICE</td>\n",
       "      <td>  $66606.00</td>\n",
       "    </tr>\n",
       "    <tr>\n",
       "      <th>32041</th>\n",
       "      <td>       ZURAWSKI,  CAROL A</td>\n",
       "      <td>                                CROSSING GUARD</td>\n",
       "      <td>             OEMC</td>\n",
       "      <td>  $22568.00</td>\n",
       "    </tr>\n",
       "    <tr>\n",
       "      <th>32042</th>\n",
       "      <td>       ZURAWSKI,  JEFFREY</td>\n",
       "      <td>                FRM OF MACHINISTS - AUTOMOTIVE</td>\n",
       "      <td> GENERAL SERVICES</td>\n",
       "      <td>  $99528.00</td>\n",
       "    </tr>\n",
       "    <tr>\n",
       "      <th>32043</th>\n",
       "      <td>         ZURAWSKI,  MAC Z</td>\n",
       "      <td>                            SANITATION LABORER</td>\n",
       "      <td>    STREETS &amp; SAN</td>\n",
       "      <td>  $73840.00</td>\n",
       "    </tr>\n",
       "    <tr>\n",
       "      <th>32044</th>\n",
       "      <td>        ZURAWSKI,  MARY E</td>\n",
       "      <td>                                POLICE OFFICER</td>\n",
       "      <td>           POLICE</td>\n",
       "      <td>  $90618.00</td>\n",
       "    </tr>\n",
       "    <tr>\n",
       "      <th>32045</th>\n",
       "      <td>          ZUREK,  FRANCIS</td>\n",
       "      <td>                           ELECTRICAL MECHANIC</td>\n",
       "      <td>             OEMC</td>\n",
       "      <td>  $93600.00</td>\n",
       "    </tr>\n",
       "    <tr>\n",
       "      <th>32046</th>\n",
       "      <td>           ZUREK,  MARY H</td>\n",
       "      <td>             SENIOR PUBLIC INFORMATION OFFICER</td>\n",
       "      <td>          FINANCE</td>\n",
       "      <td>  $83340.00</td>\n",
       "    </tr>\n",
       "    <tr>\n",
       "      <th>32047</th>\n",
       "      <td>          ZURITA,  ADRIEL</td>\n",
       "      <td>                                POLICE OFFICER</td>\n",
       "      <td>           POLICE</td>\n",
       "      <td>  $66606.00</td>\n",
       "    </tr>\n",
       "    <tr>\n",
       "      <th>32048</th>\n",
       "      <td>          ZVANJA,  TINA M</td>\n",
       "      <td>                               LEGAL SECRETARY</td>\n",
       "      <td>              LAW</td>\n",
       "      <td>  $71292.00</td>\n",
       "    </tr>\n",
       "    <tr>\n",
       "      <th>32049</th>\n",
       "      <td>   ZWARYCZ MANN,  IRENE A</td>\n",
       "      <td>                                CROSSING GUARD</td>\n",
       "      <td>             OEMC</td>\n",
       "      <td>  $17024.80</td>\n",
       "    </tr>\n",
       "    <tr>\n",
       "      <th>32050</th>\n",
       "      <td>       ZWARYCZ,  THOMAS J</td>\n",
       "      <td>                       POOL MOTOR TRUCK DRIVER</td>\n",
       "      <td>      WATER MGMNT</td>\n",
       "      <td>  $72862.40</td>\n",
       "    </tr>\n",
       "    <tr>\n",
       "      <th>32051</th>\n",
       "      <td>       ZWIESLER,  MATTHEW</td>\n",
       "      <td>                   AIRPORT OPERATIONS SUPVSR I</td>\n",
       "      <td>         AVIATION</td>\n",
       "      <td>  $75384.00</td>\n",
       "    </tr>\n",
       "    <tr>\n",
       "      <th>32052</th>\n",
       "      <td>         ZWIT,  JEFFREY J</td>\n",
       "      <td>                                POLICE OFFICER</td>\n",
       "      <td>           POLICE</td>\n",
       "      <td>  $84450.00</td>\n",
       "    </tr>\n",
       "    <tr>\n",
       "      <th>32053</th>\n",
       "      <td>      ZWOLFER,  MATTHEW W</td>\n",
       "      <td>                               FIREFIGHTER-EMT</td>\n",
       "      <td>             FIRE</td>\n",
       "      <td>  $92682.00</td>\n",
       "    </tr>\n",
       "    <tr>\n",
       "      <th>32054</th>\n",
       "      <td>           ZYCH,  MATEUSZ</td>\n",
       "      <td>                                POLICE OFFICER</td>\n",
       "      <td>           POLICE</td>\n",
       "      <td>  $46668.00</td>\n",
       "    </tr>\n",
       "    <tr>\n",
       "      <th>32055</th>\n",
       "      <td>            ZYDEK,  BRYAN</td>\n",
       "      <td>                                POLICE OFFICER</td>\n",
       "      <td>           POLICE</td>\n",
       "      <td>  $81588.00</td>\n",
       "    </tr>\n",
       "    <tr>\n",
       "      <th>32056</th>\n",
       "      <td>         ZYGADLO,  JOHN P</td>\n",
       "      <td>                        MACHINIST (AUTOMOTIVE)</td>\n",
       "      <td> GENERAL SERVICES</td>\n",
       "      <td>  $94328.00</td>\n",
       "    </tr>\n",
       "    <tr>\n",
       "      <th>32057</th>\n",
       "      <td>      ZYGADLO,  MICHAEL J</td>\n",
       "      <td>                FRM OF MACHINISTS - AUTOMOTIVE</td>\n",
       "      <td> GENERAL SERVICES</td>\n",
       "      <td>  $99528.00</td>\n",
       "    </tr>\n",
       "    <tr>\n",
       "      <th>32058</th>\n",
       "      <td>       ZYGOWICZ,  PETER J</td>\n",
       "      <td>                                POLICE OFFICER</td>\n",
       "      <td>           POLICE</td>\n",
       "      <td>  $87384.00</td>\n",
       "    </tr>\n",
       "    <tr>\n",
       "      <th>32059</th>\n",
       "      <td>        ZYMANTAS,  MARK E</td>\n",
       "      <td>                                POLICE OFFICER</td>\n",
       "      <td>           POLICE</td>\n",
       "      <td>  $84450.00</td>\n",
       "    </tr>\n",
       "    <tr>\n",
       "      <th>32060</th>\n",
       "      <td>      ZYRKOWSKI,  CARLO E</td>\n",
       "      <td>                                POLICE OFFICER</td>\n",
       "      <td>           POLICE</td>\n",
       "      <td>  $87384.00</td>\n",
       "    </tr>\n",
       "    <tr>\n",
       "      <th>32061</th>\n",
       "      <td>      ZYSKOWSKI,  DARIUSZ</td>\n",
       "      <td>                       CHIEF DATA BASE ANALYST</td>\n",
       "      <td>             DoIT</td>\n",
       "      <td> $113664.00</td>\n",
       "    </tr>\n",
       "  </tbody>\n",
       "</table>\n",
       "<p>32062 rows × 4 columns</p>\n",
       "</div>"
      ],
      "text/plain": [
       "                           Name  \\\n",
       "0               AARON,  ELVIA J   \n",
       "1             AARON,  JEFFERY M   \n",
       "2                AARON,  KARINA   \n",
       "3           AARON,  KIMBERLEI R   \n",
       "4           ABAD JR,  VICENTE M   \n",
       "5               ABARCA,  ANABEL   \n",
       "6             ABARCA,  EMMANUEL   \n",
       "7             ABASCAL,  REECE E   \n",
       "8          ABBASI,  CHRISTOPHER   \n",
       "9         ABBATACOLA,  ROBERT J   \n",
       "10        ABBATEMARCO,  JAMES J   \n",
       "11             ABBATE,  TERRY M   \n",
       "12             ABBOTT,  BETTY L   \n",
       "13            ABBOTT,  LYNISE M   \n",
       "14       ABBRUZZESE,  WILLIAM J   \n",
       "15              ABDALLAH,  ZAID   \n",
       "16        ABDELHADI,  ABDALMAHD   \n",
       "17          ABDELLATIF,  AREF R   \n",
       "18           ABDELMAJEID,  AZIZ   \n",
       "19          ABDOLLAHZADEH,  ALI   \n",
       "20     ABDUL-KARIM,  MUHAMMAD A   \n",
       "21          ABDULLAH,  DANIEL N   \n",
       "22             ABDULLAH,  KEVIN   \n",
       "23         ABDULLAH,  LAKENYA N   \n",
       "24          ABDULLAH,  RASHAD J   \n",
       "25         ABDULSATTAR,  MUDHAR   \n",
       "26         ABDUL-SHAKUR,  TAHIR   \n",
       "27       ABDULWAHAB,  ABUUBAIDA   \n",
       "28            ABEJERO,  JASON V   \n",
       "29      ABERCROMBIE IV,  EARL S   \n",
       "...                         ...   \n",
       "32032         ZUNIGA JR,  JAMES   \n",
       "32033           ZUNIGA,  JUAN M   \n",
       "32034            ZUNIGA,  OSCAR   \n",
       "32035           ZUNIGA,  RONALD   \n",
       "32036           ZUNIGA,  THOMAS   \n",
       "32037          ZUNIGA,  VICENTE   \n",
       "32038               ZUNO,  ERIK   \n",
       "32039            ZUPAN,  BILL M   \n",
       "32040          ZUPANCIC,  KELLY   \n",
       "32041        ZURAWSKI,  CAROL A   \n",
       "32042        ZURAWSKI,  JEFFREY   \n",
       "32043          ZURAWSKI,  MAC Z   \n",
       "32044         ZURAWSKI,  MARY E   \n",
       "32045           ZUREK,  FRANCIS   \n",
       "32046            ZUREK,  MARY H   \n",
       "32047           ZURITA,  ADRIEL   \n",
       "32048           ZVANJA,  TINA M   \n",
       "32049    ZWARYCZ MANN,  IRENE A   \n",
       "32050        ZWARYCZ,  THOMAS J   \n",
       "32051        ZWIESLER,  MATTHEW   \n",
       "32052          ZWIT,  JEFFREY J   \n",
       "32053       ZWOLFER,  MATTHEW W   \n",
       "32054            ZYCH,  MATEUSZ   \n",
       "32055             ZYDEK,  BRYAN   \n",
       "32056          ZYGADLO,  JOHN P   \n",
       "32057       ZYGADLO,  MICHAEL J   \n",
       "32058        ZYGOWICZ,  PETER J   \n",
       "32059         ZYMANTAS,  MARK E   \n",
       "32060       ZYRKOWSKI,  CARLO E   \n",
       "32061       ZYSKOWSKI,  DARIUSZ   \n",
       "\n",
       "                                      Position Title        Department  \\\n",
       "0                                   WATER RATE TAKER       WATER MGMNT   \n",
       "1                                     POLICE OFFICER            POLICE   \n",
       "2                                     POLICE OFFICER            POLICE   \n",
       "3                           CHIEF CONTRACT EXPEDITER  GENERAL SERVICES   \n",
       "4                                  CIVIL ENGINEER IV       WATER MGMNT   \n",
       "5                               ASST TO THE ALDERMAN      CITY COUNCIL   \n",
       "6                              GENERAL LABORER - DSS     STREETS & SAN   \n",
       "7                        TRAFFIC CONTROL AIDE-HOURLY              OEMC   \n",
       "8                         STAFF ASST TO THE ALDERMAN      CITY COUNCIL   \n",
       "9                                ELECTRICAL MECHANIC          AVIATION   \n",
       "10                                 FIRE ENGINEER-EMT              FIRE   \n",
       "11                                    POLICE OFFICER            POLICE   \n",
       "12                                FOSTER GRANDPARENT  FAMILY & SUPPORT   \n",
       "13                                         CLERK III            POLICE   \n",
       "14                            INVESTIGATOR - IPRA II              IPRA   \n",
       "15                                    POLICE OFFICER            POLICE   \n",
       "16                                    POLICE OFFICER            POLICE   \n",
       "17     FIREFIGHTER (PER ARBITRATORS AWARD)-PARAMEDIC              FIRE   \n",
       "18                                    POLICE OFFICER            POLICE   \n",
       "19                             FIREFIGHTER/PARAMEDIC              FIRE   \n",
       "20                         ENGINEERING TECHNICIAN VI       WATER MGMNT   \n",
       "21                                   FIREFIGHTER-EMT              FIRE   \n",
       "22                                        LIEUTENANT              FIRE   \n",
       "23                                    CROSSING GUARD              OEMC   \n",
       "24           ELECTRICAL MECHANIC-AUTO-POLICE MTR MNT  GENERAL SERVICES   \n",
       "25                                 CIVIL ENGINEER II       WATER MGMNT   \n",
       "26                             GENERAL LABORER - DSS     STREETS & SAN   \n",
       "27                                FOSTER GRANDPARENT  FAMILY & SUPPORT   \n",
       "28                                    POLICE OFFICER            POLICE   \n",
       "29                                         PARAMEDIC              FIRE   \n",
       "...                                              ...               ...   \n",
       "32032                               GARAGE ATTENDANT  GENERAL SERVICES   \n",
       "32033                                 POLICE OFFICER            POLICE   \n",
       "32034                                 POLICE OFFICER            POLICE   \n",
       "32035                                 POLICE OFFICER            POLICE   \n",
       "32036                          GENERAL LABORER - DSS     STREETS & SAN   \n",
       "32037                                FIREFIGHTER-EMT              FIRE   \n",
       "32038                           LABORER - APPRENTICE       WATER MGMNT   \n",
       "32039                                 LIEUTENANT-EMT              FIRE   \n",
       "32040                                 POLICE OFFICER            POLICE   \n",
       "32041                                 CROSSING GUARD              OEMC   \n",
       "32042                 FRM OF MACHINISTS - AUTOMOTIVE  GENERAL SERVICES   \n",
       "32043                             SANITATION LABORER     STREETS & SAN   \n",
       "32044                                 POLICE OFFICER            POLICE   \n",
       "32045                            ELECTRICAL MECHANIC              OEMC   \n",
       "32046              SENIOR PUBLIC INFORMATION OFFICER           FINANCE   \n",
       "32047                                 POLICE OFFICER            POLICE   \n",
       "32048                                LEGAL SECRETARY               LAW   \n",
       "32049                                 CROSSING GUARD              OEMC   \n",
       "32050                        POOL MOTOR TRUCK DRIVER       WATER MGMNT   \n",
       "32051                    AIRPORT OPERATIONS SUPVSR I          AVIATION   \n",
       "32052                                 POLICE OFFICER            POLICE   \n",
       "32053                                FIREFIGHTER-EMT              FIRE   \n",
       "32054                                 POLICE OFFICER            POLICE   \n",
       "32055                                 POLICE OFFICER            POLICE   \n",
       "32056                         MACHINIST (AUTOMOTIVE)  GENERAL SERVICES   \n",
       "32057                 FRM OF MACHINISTS - AUTOMOTIVE  GENERAL SERVICES   \n",
       "32058                                 POLICE OFFICER            POLICE   \n",
       "32059                                 POLICE OFFICER            POLICE   \n",
       "32060                                 POLICE OFFICER            POLICE   \n",
       "32061                        CHIEF DATA BASE ANALYST              DoIT   \n",
       "\n",
       "      Employee Annual Salary  \n",
       "0                  $90744.00  \n",
       "1                  $84450.00  \n",
       "2                  $84450.00  \n",
       "3                  $89880.00  \n",
       "4                 $106836.00  \n",
       "5                  $70764.00  \n",
       "6                  $41849.60  \n",
       "7                  $20051.20  \n",
       "8                  $49452.00  \n",
       "9                  $93600.00  \n",
       "10                $100320.00  \n",
       "11                 $90618.00  \n",
       "12                  $2756.00  \n",
       "13                 $46896.00  \n",
       "14                 $73920.00  \n",
       "15                 $74028.00  \n",
       "16                 $81588.00  \n",
       "17                 $99228.00  \n",
       "18                 $81588.00  \n",
       "19                 $88596.00  \n",
       "20                $108228.00  \n",
       "21                 $92682.00  \n",
       "22                $111474.00  \n",
       "23                 $17846.40  \n",
       "24                 $93600.00  \n",
       "25                 $58536.00  \n",
       "26                 $41849.60  \n",
       "27                  $2756.00  \n",
       "28                 $87384.00  \n",
       "29                 $70380.00  \n",
       "...                      ...  \n",
       "32032              $47528.00  \n",
       "32033              $84450.00  \n",
       "32034              $74028.00  \n",
       "32035              $87384.00  \n",
       "32036              $43201.60  \n",
       "32037              $89568.00  \n",
       "32038              $73382.40  \n",
       "32039             $107592.00  \n",
       "32040              $66606.00  \n",
       "32041              $22568.00  \n",
       "32042              $99528.00  \n",
       "32043              $73840.00  \n",
       "32044              $90618.00  \n",
       "32045              $93600.00  \n",
       "32046              $83340.00  \n",
       "32047              $66606.00  \n",
       "32048              $71292.00  \n",
       "32049              $17024.80  \n",
       "32050              $72862.40  \n",
       "32051              $75384.00  \n",
       "32052              $84450.00  \n",
       "32053              $92682.00  \n",
       "32054              $46668.00  \n",
       "32055              $81588.00  \n",
       "32056              $94328.00  \n",
       "32057              $99528.00  \n",
       "32058              $87384.00  \n",
       "32059              $84450.00  \n",
       "32060              $87384.00  \n",
       "32061             $113664.00  \n",
       "\n",
       "[32062 rows x 4 columns]"
      ]
     },
     "execution_count": 4,
     "metadata": {},
     "output_type": "execute_result"
    }
   ],
   "source": [
    "df = df.dropna()\n",
    "df"
   ]
  },
  {
   "cell_type": "markdown",
   "metadata": {},
   "source": [
    "The column names are a little long, and we might be typing them often, let's make them shorter\n",
    "--"
   ]
  },
  {
   "cell_type": "code",
   "execution_count": 5,
   "metadata": {
    "collapsed": false
   },
   "outputs": [],
   "source": [
    "df.columns = ['Name', 'Title', 'Department', 'Salary']"
   ]
  },
  {
   "cell_type": "code",
   "execution_count": 6,
   "metadata": {
    "collapsed": false
   },
   "outputs": [
    {
     "data": {
      "text/html": [
       "<div style=\"max-height:1000px;max-width:1500px;overflow:auto;\">\n",
       "<table border=\"1\" class=\"dataframe\">\n",
       "  <thead>\n",
       "    <tr style=\"text-align: right;\">\n",
       "      <th></th>\n",
       "      <th>Name</th>\n",
       "      <th>Title</th>\n",
       "      <th>Department</th>\n",
       "      <th>Salary</th>\n",
       "    </tr>\n",
       "  </thead>\n",
       "  <tbody>\n",
       "    <tr>\n",
       "      <th>0</th>\n",
       "      <td>     AARON,  ELVIA J</td>\n",
       "      <td>         WATER RATE TAKER</td>\n",
       "      <td>      WATER MGMNT</td>\n",
       "      <td>  $90744.00</td>\n",
       "    </tr>\n",
       "    <tr>\n",
       "      <th>1</th>\n",
       "      <td>   AARON,  JEFFERY M</td>\n",
       "      <td>           POLICE OFFICER</td>\n",
       "      <td>           POLICE</td>\n",
       "      <td>  $84450.00</td>\n",
       "    </tr>\n",
       "    <tr>\n",
       "      <th>2</th>\n",
       "      <td>      AARON,  KARINA</td>\n",
       "      <td>           POLICE OFFICER</td>\n",
       "      <td>           POLICE</td>\n",
       "      <td>  $84450.00</td>\n",
       "    </tr>\n",
       "    <tr>\n",
       "      <th>3</th>\n",
       "      <td> AARON,  KIMBERLEI R</td>\n",
       "      <td> CHIEF CONTRACT EXPEDITER</td>\n",
       "      <td> GENERAL SERVICES</td>\n",
       "      <td>  $89880.00</td>\n",
       "    </tr>\n",
       "    <tr>\n",
       "      <th>4</th>\n",
       "      <td> ABAD JR,  VICENTE M</td>\n",
       "      <td>        CIVIL ENGINEER IV</td>\n",
       "      <td>      WATER MGMNT</td>\n",
       "      <td> $106836.00</td>\n",
       "    </tr>\n",
       "  </tbody>\n",
       "</table>\n",
       "</div>"
      ],
      "text/plain": [
       "                  Name                     Title        Department      Salary\n",
       "0      AARON,  ELVIA J          WATER RATE TAKER       WATER MGMNT   $90744.00\n",
       "1    AARON,  JEFFERY M            POLICE OFFICER            POLICE   $84450.00\n",
       "2       AARON,  KARINA            POLICE OFFICER            POLICE   $84450.00\n",
       "3  AARON,  KIMBERLEI R  CHIEF CONTRACT EXPEDITER  GENERAL SERVICES   $89880.00\n",
       "4  ABAD JR,  VICENTE M         CIVIL ENGINEER IV       WATER MGMNT  $106836.00"
      ]
     },
     "execution_count": 6,
     "metadata": {},
     "output_type": "execute_result"
    }
   ],
   "source": [
    "df.head()"
   ]
  },
  {
   "cell_type": "markdown",
   "metadata": {},
   "source": [
    "Next, we use the describe method (method is a fancy word for function) to get a sense of our data\n",
    "--"
   ]
  },
  {
   "cell_type": "code",
   "execution_count": 7,
   "metadata": {
    "collapsed": false
   },
   "outputs": [
    {
     "data": {
      "text/html": [
       "<div style=\"max-height:1000px;max-width:1500px;overflow:auto;\">\n",
       "<table border=\"1\" class=\"dataframe\">\n",
       "  <thead>\n",
       "    <tr style=\"text-align: right;\">\n",
       "      <th></th>\n",
       "      <th>Name</th>\n",
       "      <th>Title</th>\n",
       "      <th>Department</th>\n",
       "      <th>Salary</th>\n",
       "    </tr>\n",
       "  </thead>\n",
       "  <tbody>\n",
       "    <tr>\n",
       "      <th>count</th>\n",
       "      <td>              32062</td>\n",
       "      <td>          32062</td>\n",
       "      <td>  32062</td>\n",
       "      <td>     32062</td>\n",
       "    </tr>\n",
       "    <tr>\n",
       "      <th>unique</th>\n",
       "      <td>              31776</td>\n",
       "      <td>           1093</td>\n",
       "      <td>     35</td>\n",
       "      <td>      1156</td>\n",
       "    </tr>\n",
       "    <tr>\n",
       "      <th>top</th>\n",
       "      <td> HERNANDEZ,  JUAN C</td>\n",
       "      <td> POLICE OFFICER</td>\n",
       "      <td> POLICE</td>\n",
       "      <td> $87384.00</td>\n",
       "    </tr>\n",
       "    <tr>\n",
       "      <th>freq</th>\n",
       "      <td>                  4</td>\n",
       "      <td>           9184</td>\n",
       "      <td>  12618</td>\n",
       "      <td>      2394</td>\n",
       "    </tr>\n",
       "  </tbody>\n",
       "</table>\n",
       "</div>"
      ],
      "text/plain": [
       "                      Name           Title Department     Salary\n",
       "count                32062           32062      32062      32062\n",
       "unique               31776            1093         35       1156\n",
       "top     HERNANDEZ,  JUAN C  POLICE OFFICER     POLICE  $87384.00\n",
       "freq                     4            9184      12618       2394"
      ]
     },
     "execution_count": 7,
     "metadata": {},
     "output_type": "execute_result"
    }
   ],
   "source": [
    "df.describe()"
   ]
  },
  {
   "cell_type": "markdown",
   "metadata": {},
   "source": [
    "So there are 4 Juan C Hernandezes, 9184 cops, and 2394 people make $87384 a year. But this is an odd way to describe numerical data like salary. What datatypes do we have?\n",
    "--"
   ]
  },
  {
   "cell_type": "code",
   "execution_count": 8,
   "metadata": {
    "collapsed": false
   },
   "outputs": [
    {
     "data": {
      "text/plain": [
       "Name          object\n",
       "Title         object\n",
       "Department    object\n",
       "Salary        object\n",
       "dtype: object"
      ]
     },
     "execution_count": 8,
     "metadata": {},
     "output_type": "execute_result"
    }
   ],
   "source": [
    "df.dtypes"
   ]
  },
  {
   "cell_type": "markdown",
   "metadata": {},
   "source": [
    "For categorical variables like names and titles, objects work, but we should convert salary to a numerical representation. We will use the pandas map method to assign a new value via a function applied to each value in a column (i.e. series) \n",
    "--"
   ]
  },
  {
   "cell_type": "code",
   "execution_count": 9,
   "metadata": {
    "collapsed": false
   },
   "outputs": [],
   "source": [
    "def dollars_to_float(dollars):\n",
    "    return float(dollars.replace('$', ''))"
   ]
  },
  {
   "cell_type": "code",
   "execution_count": 10,
   "metadata": {
    "collapsed": false
   },
   "outputs": [
    {
     "name": "stderr",
     "output_type": "stream",
     "text": [
      "/usr/local/lib/python2.7/site-packages/ipykernel/__main__.py:1: SettingWithCopyWarning: \n",
      "A value is trying to be set on a copy of a slice from a DataFrame.\n",
      "Try using .loc[row_indexer,col_indexer] = value instead\n",
      "\n",
      "See the the caveats in the documentation: http://pandas.pydata.org/pandas-docs/stable/indexing.html#indexing-view-versus-copy\n",
      "  if __name__ == '__main__':\n"
     ]
    }
   ],
   "source": [
    "df['Salary'] = df['Salary'].map(dollars_to_float, na_action='ignore')"
   ]
  },
  {
   "cell_type": "code",
   "execution_count": 11,
   "metadata": {
    "collapsed": false
   },
   "outputs": [
    {
     "data": {
      "text/plain": [
       "Name           object\n",
       "Title          object\n",
       "Department     object\n",
       "Salary        float64\n",
       "dtype: object"
      ]
     },
     "execution_count": 11,
     "metadata": {},
     "output_type": "execute_result"
    }
   ],
   "source": [
    "df.dtypes"
   ]
  },
  {
   "cell_type": "code",
   "execution_count": 12,
   "metadata": {
    "collapsed": false
   },
   "outputs": [
    {
     "data": {
      "text/html": [
       "<div style=\"max-height:1000px;max-width:1500px;overflow:auto;\">\n",
       "<table border=\"1\" class=\"dataframe\">\n",
       "  <thead>\n",
       "    <tr style=\"text-align: right;\">\n",
       "      <th></th>\n",
       "      <th>Salary</th>\n",
       "    </tr>\n",
       "  </thead>\n",
       "  <tbody>\n",
       "    <tr>\n",
       "      <th>count</th>\n",
       "      <td>  32062.000000</td>\n",
       "    </tr>\n",
       "    <tr>\n",
       "      <th>mean</th>\n",
       "      <td>  80204.178634</td>\n",
       "    </tr>\n",
       "    <tr>\n",
       "      <th>std</th>\n",
       "      <td>  25098.329868</td>\n",
       "    </tr>\n",
       "    <tr>\n",
       "      <th>min</th>\n",
       "      <td>      0.960000</td>\n",
       "    </tr>\n",
       "    <tr>\n",
       "      <th>25%</th>\n",
       "      <td>  72862.400000</td>\n",
       "    </tr>\n",
       "    <tr>\n",
       "      <th>50%</th>\n",
       "      <td>  84450.000000</td>\n",
       "    </tr>\n",
       "    <tr>\n",
       "      <th>75%</th>\n",
       "      <td>  93240.000000</td>\n",
       "    </tr>\n",
       "    <tr>\n",
       "      <th>max</th>\n",
       "      <td> 300000.000000</td>\n",
       "    </tr>\n",
       "  </tbody>\n",
       "</table>\n",
       "</div>"
      ],
      "text/plain": [
       "              Salary\n",
       "count   32062.000000\n",
       "mean    80204.178634\n",
       "std     25098.329868\n",
       "min         0.960000\n",
       "25%     72862.400000\n",
       "50%     84450.000000\n",
       "75%     93240.000000\n",
       "max    300000.000000"
      ]
     },
     "execution_count": 12,
     "metadata": {},
     "output_type": "execute_result"
    }
   ],
   "source": [
    "df.describe()"
   ]
  },
  {
   "cell_type": "code",
   "execution_count": 13,
   "metadata": {
    "collapsed": false
   },
   "outputs": [
    {
     "data": {
      "text/html": [
       "<div style=\"max-height:1000px;max-width:1500px;overflow:auto;\">\n",
       "<table border=\"1\" class=\"dataframe\">\n",
       "  <thead>\n",
       "    <tr style=\"text-align: right;\">\n",
       "      <th></th>\n",
       "      <th>Name</th>\n",
       "      <th>Title</th>\n",
       "      <th>Department</th>\n",
       "      <th>Salary</th>\n",
       "    </tr>\n",
       "  </thead>\n",
       "  <tbody>\n",
       "    <tr>\n",
       "      <th>count</th>\n",
       "      <td>              32062</td>\n",
       "      <td>          32062</td>\n",
       "      <td>  32062</td>\n",
       "      <td>  32062.000000</td>\n",
       "    </tr>\n",
       "    <tr>\n",
       "      <th>unique</th>\n",
       "      <td>              31776</td>\n",
       "      <td>           1093</td>\n",
       "      <td>     35</td>\n",
       "      <td>           NaN</td>\n",
       "    </tr>\n",
       "    <tr>\n",
       "      <th>top</th>\n",
       "      <td> HERNANDEZ,  JUAN C</td>\n",
       "      <td> POLICE OFFICER</td>\n",
       "      <td> POLICE</td>\n",
       "      <td>           NaN</td>\n",
       "    </tr>\n",
       "    <tr>\n",
       "      <th>freq</th>\n",
       "      <td>                  4</td>\n",
       "      <td>           9184</td>\n",
       "      <td>  12618</td>\n",
       "      <td>           NaN</td>\n",
       "    </tr>\n",
       "    <tr>\n",
       "      <th>mean</th>\n",
       "      <td>                NaN</td>\n",
       "      <td>            NaN</td>\n",
       "      <td>    NaN</td>\n",
       "      <td>  80204.178634</td>\n",
       "    </tr>\n",
       "    <tr>\n",
       "      <th>std</th>\n",
       "      <td>                NaN</td>\n",
       "      <td>            NaN</td>\n",
       "      <td>    NaN</td>\n",
       "      <td>  25098.329868</td>\n",
       "    </tr>\n",
       "    <tr>\n",
       "      <th>min</th>\n",
       "      <td>                NaN</td>\n",
       "      <td>            NaN</td>\n",
       "      <td>    NaN</td>\n",
       "      <td>      0.960000</td>\n",
       "    </tr>\n",
       "    <tr>\n",
       "      <th>25%</th>\n",
       "      <td>                NaN</td>\n",
       "      <td>            NaN</td>\n",
       "      <td>    NaN</td>\n",
       "      <td>  72862.400000</td>\n",
       "    </tr>\n",
       "    <tr>\n",
       "      <th>50%</th>\n",
       "      <td>                NaN</td>\n",
       "      <td>            NaN</td>\n",
       "      <td>    NaN</td>\n",
       "      <td>  84450.000000</td>\n",
       "    </tr>\n",
       "    <tr>\n",
       "      <th>75%</th>\n",
       "      <td>                NaN</td>\n",
       "      <td>            NaN</td>\n",
       "      <td>    NaN</td>\n",
       "      <td>  93240.000000</td>\n",
       "    </tr>\n",
       "    <tr>\n",
       "      <th>max</th>\n",
       "      <td>                NaN</td>\n",
       "      <td>            NaN</td>\n",
       "      <td>    NaN</td>\n",
       "      <td> 300000.000000</td>\n",
       "    </tr>\n",
       "  </tbody>\n",
       "</table>\n",
       "</div>"
      ],
      "text/plain": [
       "                      Name           Title Department         Salary\n",
       "count                32062           32062      32062   32062.000000\n",
       "unique               31776            1093         35            NaN\n",
       "top     HERNANDEZ,  JUAN C  POLICE OFFICER     POLICE            NaN\n",
       "freq                     4            9184      12618            NaN\n",
       "mean                   NaN             NaN        NaN   80204.178634\n",
       "std                    NaN             NaN        NaN   25098.329868\n",
       "min                    NaN             NaN        NaN       0.960000\n",
       "25%                    NaN             NaN        NaN   72862.400000\n",
       "50%                    NaN             NaN        NaN   84450.000000\n",
       "75%                    NaN             NaN        NaN   93240.000000\n",
       "max                    NaN             NaN        NaN  300000.000000"
      ]
     },
     "execution_count": 13,
     "metadata": {},
     "output_type": "execute_result"
    }
   ],
   "source": [
    "df.describe(include='all')"
   ]
  },
  {
   "cell_type": "code",
   "execution_count": 14,
   "metadata": {
    "collapsed": false
   },
   "outputs": [
    {
     "data": {
      "text/plain": [
       "<matplotlib.axes._subplots.AxesSubplot at 0x10a99d2d0>"
      ]
     },
     "execution_count": 14,
     "metadata": {},
     "output_type": "execute_result"
    },
    {
     "data": {
      "image/png": "[encoded data removed]",
      "text/plain": [
       "<matplotlib.figure.Figure at 0x10a99d490>"
      ]
     },
     "metadata": {},
     "output_type": "display_data"
    }
   ],
   "source": [
    "df.Salary.hist()"
   ]
  },
  {
   "cell_type": "markdown",
   "metadata": {},
   "source": [
    "Let's see who makes 300k\n",
    "--"
   ]
  },
  {
   "cell_type": "code",
   "execution_count": 15,
   "metadata": {
    "collapsed": false
   },
   "outputs": [
    {
     "data": {
      "text/html": [
       "<div style=\"max-height:1000px;max-width:1500px;overflow:auto;\">\n",
       "<table border=\"1\" class=\"dataframe\">\n",
       "  <thead>\n",
       "    <tr style=\"text-align: right;\">\n",
       "      <th></th>\n",
       "      <th>Name</th>\n",
       "      <th>Title</th>\n",
       "      <th>Department</th>\n",
       "      <th>Salary</th>\n",
       "    </tr>\n",
       "  </thead>\n",
       "  <tbody>\n",
       "    <tr>\n",
       "      <th>8184</th>\n",
       "      <td> EVANS,  GINGER S</td>\n",
       "      <td> COMMISSIONER OF AVIATION</td>\n",
       "      <td> AVIATION</td>\n",
       "      <td> 300000</td>\n",
       "    </tr>\n",
       "  </tbody>\n",
       "</table>\n",
       "</div>"
      ],
      "text/plain": [
       "                  Name                     Title Department  Salary\n",
       "8184  EVANS,  GINGER S  COMMISSIONER OF AVIATION   AVIATION  300000"
      ]
     },
     "execution_count": 15,
     "metadata": {},
     "output_type": "execute_result"
    }
   ],
   "source": [
    "df[df.Salary==300000]"
   ]
  },
  {
   "cell_type": "markdown",
   "metadata": {},
   "source": [
    "Now I know what job to get.\n",
    "--\n",
    "\n",
    "Just to hedge my bets, who makes 200k or more?"
   ]
  },
  {
   "cell_type": "code",
   "execution_count": 16,
   "metadata": {
    "collapsed": false
   },
   "outputs": [
    {
     "data": {
      "text/html": [
       "<div style=\"max-height:1000px;max-width:1500px;overflow:auto;\">\n",
       "<table border=\"1\" class=\"dataframe\">\n",
       "  <thead>\n",
       "    <tr style=\"text-align: right;\">\n",
       "      <th></th>\n",
       "      <th>Name</th>\n",
       "      <th>Title</th>\n",
       "      <th>Department</th>\n",
       "      <th>Salary</th>\n",
       "    </tr>\n",
       "  </thead>\n",
       "  <tbody>\n",
       "    <tr>\n",
       "      <th>7954 </th>\n",
       "      <td>    EMANUEL,  RAHM</td>\n",
       "      <td>                    MAYOR</td>\n",
       "      <td> MAYOR'S OFFICE</td>\n",
       "      <td> 216210</td>\n",
       "    </tr>\n",
       "    <tr>\n",
       "      <th>8184 </th>\n",
       "      <td>  EVANS,  GINGER S</td>\n",
       "      <td> COMMISSIONER OF AVIATION</td>\n",
       "      <td>       AVIATION</td>\n",
       "      <td> 300000</td>\n",
       "    </tr>\n",
       "    <tr>\n",
       "      <th>25532</th>\n",
       "      <td> SANTIAGO,  JOSE A</td>\n",
       "      <td>        FIRE COMMISSIONER</td>\n",
       "      <td>           FIRE</td>\n",
       "      <td> 202728</td>\n",
       "    </tr>\n",
       "  </tbody>\n",
       "</table>\n",
       "</div>"
      ],
      "text/plain": [
       "                    Name                     Title      Department  Salary\n",
       "7954      EMANUEL,  RAHM                     MAYOR  MAYOR'S OFFICE  216210\n",
       "8184    EVANS,  GINGER S  COMMISSIONER OF AVIATION        AVIATION  300000\n",
       "25532  SANTIAGO,  JOSE A         FIRE COMMISSIONER            FIRE  202728"
      ]
     },
     "execution_count": 16,
     "metadata": {},
     "output_type": "execute_result"
    }
   ],
   "source": [
    "df[df.Salary >= 200000]"
   ]
  },
  {
   "cell_type": "markdown",
   "metadata": {},
   "source": [
    "Perhaps there will be a job opening soon. \n",
    "--"
   ]
  },
  {
   "cell_type": "code",
   "execution_count": 17,
   "metadata": {
    "collapsed": false
   },
   "outputs": [],
   "source": [
    "IFrame(\"http://www.salon.com/2016/01/07/rahm_emanuel_is_a_national_disgrace_why_he_represents_every_worst_instinct_of_the_democratic_party/\", width=700, height=700);"
   ]
  },
  {
   "cell_type": "code",
   "execution_count": 18,
   "metadata": {
    "collapsed": false
   },
   "outputs": [
    {
     "data": {
      "text/html": [
       "<div style=\"max-height:1000px;max-width:1500px;overflow:auto;\">\n",
       "<table border=\"1\" class=\"dataframe\">\n",
       "  <thead>\n",
       "    <tr style=\"text-align: right;\">\n",
       "      <th></th>\n",
       "      <th>Name</th>\n",
       "      <th>Title</th>\n",
       "      <th>Department</th>\n",
       "      <th>Salary</th>\n",
       "    </tr>\n",
       "  </thead>\n",
       "  <tbody>\n",
       "    <tr>\n",
       "      <th>15102</th>\n",
       "      <td> KOCH,  STEVEN</td>\n",
       "      <td> ADMINISTRATIVE SECRETARY</td>\n",
       "      <td> MAYOR'S OFFICE</td>\n",
       "      <td> 0.96</td>\n",
       "    </tr>\n",
       "  </tbody>\n",
       "</table>\n",
       "</div>"
      ],
      "text/plain": [
       "                Name                     Title      Department  Salary\n",
       "15102  KOCH,  STEVEN  ADMINISTRATIVE SECRETARY  MAYOR'S OFFICE    0.96"
      ]
     },
     "execution_count": 18,
     "metadata": {},
     "output_type": "execute_result"
    }
   ],
   "source": [
    "df[df.Salary==0.96]"
   ]
  },
  {
   "cell_type": "code",
   "execution_count": 19,
   "metadata": {
    "collapsed": false
   },
   "outputs": [],
   "source": [
    "df=df.drop(15102, axis=0);"
   ]
  },
  {
   "cell_type": "code",
   "execution_count": 20,
   "metadata": {
    "collapsed": false
   },
   "outputs": [
    {
     "data": {
      "text/html": [
       "<div style=\"max-height:1000px;max-width:1500px;overflow:auto;\">\n",
       "<table border=\"1\" class=\"dataframe\">\n",
       "  <thead>\n",
       "    <tr style=\"text-align: right;\">\n",
       "      <th></th>\n",
       "      <th>Salary</th>\n",
       "    </tr>\n",
       "  </thead>\n",
       "  <tbody>\n",
       "    <tr>\n",
       "      <th>count</th>\n",
       "      <td>  32061.000000</td>\n",
       "    </tr>\n",
       "    <tr>\n",
       "      <th>mean</th>\n",
       "      <td>  80206.680216</td>\n",
       "    </tr>\n",
       "    <tr>\n",
       "      <th>std</th>\n",
       "      <td>  25094.723809</td>\n",
       "    </tr>\n",
       "    <tr>\n",
       "      <th>min</th>\n",
       "      <td>   2756.000000</td>\n",
       "    </tr>\n",
       "    <tr>\n",
       "      <th>25%</th>\n",
       "      <td>  72862.400000</td>\n",
       "    </tr>\n",
       "    <tr>\n",
       "      <th>50%</th>\n",
       "      <td>  84450.000000</td>\n",
       "    </tr>\n",
       "    <tr>\n",
       "      <th>75%</th>\n",
       "      <td>  93240.000000</td>\n",
       "    </tr>\n",
       "    <tr>\n",
       "      <th>max</th>\n",
       "      <td> 300000.000000</td>\n",
       "    </tr>\n",
       "  </tbody>\n",
       "</table>\n",
       "</div>"
      ],
      "text/plain": [
       "              Salary\n",
       "count   32061.000000\n",
       "mean    80206.680216\n",
       "std     25094.723809\n",
       "min      2756.000000\n",
       "25%     72862.400000\n",
       "50%     84450.000000\n",
       "75%     93240.000000\n",
       "max    300000.000000"
      ]
     },
     "execution_count": 20,
     "metadata": {},
     "output_type": "execute_result"
    }
   ],
   "source": [
    "df.describe()"
   ]
  },
  {
   "cell_type": "code",
   "execution_count": 21,
   "metadata": {
    "collapsed": false
   },
   "outputs": [
    {
     "data": {
      "text/plain": [
       "POLICE                   12618\n",
       "FIRE                      4796\n",
       "STREETS & SAN             2152\n",
       "OEMC                      1982\n",
       "WATER MGMNT               1840\n",
       "AVIATION                  1521\n",
       "TRANSPORTN                1073\n",
       "PUBLIC LIBRARY             961\n",
       "GENERAL SERVICES           930\n",
       "FAMILY & SUPPORT           654\n",
       "FINANCE                    577\n",
       "HEALTH                     529\n",
       "LAW                        414\n",
       "CITY COUNCIL               396\n",
       "BUILDINGS                  262\n",
       "COMMUNITY DEVELOPMENT      208\n",
       "BUSINESS AFFAIRS           161\n",
       "BOARD OF ELECTION          117\n",
       "DoIT                       102\n",
       "CITY CLERK                  94\n",
       "MAYOR'S OFFICE              85\n",
       "PROCUREMENT                 83\n",
       "IPRA                        82\n",
       "CULTURAL AFFAIRS            74\n",
       "HUMAN RESOURCES             70\n",
       "ANIMAL CONTRL               67\n",
       "INSPECTOR GEN               57\n",
       "BUDGET & MGMT               39\n",
       "ADMIN HEARNG                39\n",
       "DISABILITIES                28\n",
       "TREASURER                   22\n",
       "HUMAN RELATIONS             16\n",
       "BOARD OF ETHICS              9\n",
       "POLICE BOARD                 2\n",
       "LICENSE APPL COMM            1\n",
       "dtype: int64"
      ]
     },
     "execution_count": 21,
     "metadata": {},
     "output_type": "execute_result"
    }
   ],
   "source": [
    "df.Department.value_counts()"
   ]
  },
  {
   "cell_type": "code",
   "execution_count": 22,
   "metadata": {
    "collapsed": false
   },
   "outputs": [
    {
     "data": {
      "text/plain": [
       "POLICE OFFICER                            9184\n",
       "FIREFIGHTER-EMT                           1208\n",
       "SERGEANT                                  1185\n",
       "POOL MOTOR TRUCK DRIVER                    918\n",
       "POLICE OFFICER (ASSIGNED AS DETECTIVE)     896\n",
       "MOTOR TRUCK DRIVER                         717\n",
       "SANITATION LABORER                         673\n",
       "FIREFIGHTER                                671\n",
       "CROSSING GUARD                             560\n",
       "TRAFFIC CONTROL AIDE-HOURLY                442\n",
       "CONSTRUCTION LABORER                       428\n",
       "LIEUTENANT-EMT                             391\n",
       "PARAMEDIC                                  344\n",
       "LIEUTENANT                                 332\n",
       "FIREFIGHTER-EMT (RECRUIT)                  301\n",
       "...\n",
       "RISK MANAGER                                   1\n",
       "SUPERVISING BOILER INSPECTOR                   1\n",
       "CHAIRPERSON - COMMISSION ON HUMAN RELATIONS    1\n",
       "SUPERVISING BUDGET ANALYST                     1\n",
       "PROGRAM COORD - DISABILITY SERVICES            1\n",
       "CITY CLERK                                     1\n",
       "MANAGER OF QUALITY ASSURANCE                   1\n",
       "TELEPHONE SYSTEMS ADMINISTRATOR                1\n",
       "SENIOR LAND DISPOSITION OFFICER                1\n",
       "SUPVR OF POLLING-ELECTIONS                     1\n",
       "ANIMAL PLACEMENT COORD                         1\n",
       "A/MGR COM SVC-ELECTIONS                        1\n",
       "EXEC DIR EMERG MGMT & COMM                     1\n",
       "EMERGENCY MANAGEMENT COORD                     1\n",
       "MOBILE UNIT OPERATOR                           1\n",
       "Length: 1093, dtype: int64"
      ]
     },
     "execution_count": 22,
     "metadata": {},
     "output_type": "execute_result"
    }
   ],
   "source": [
    "df.Title.value_counts()"
   ]
  },
  {
   "cell_type": "markdown",
   "metadata": {},
   "source": [
    "Note: there is only one risk manager. A very risky way of managing risk!\n",
    "\n",
    "## Fitting distributions with Scipy\n",
    "\n",
    "scipy.stats has a lot of tools for playing with various statistical distributions. We can use it to fit the parameters of a given distribution to data using Maximum Likelihood Estimation (black-boxed). \n",
    "\n",
    "Before we fit a distribution to our "
   ]
  },
  {
   "cell_type": "code",
   "execution_count": 23,
   "metadata": {
    "collapsed": true
   },
   "outputs": [],
   "source": [
    "fitted_normal = scipy.stats.norm(loc=df.Salary.mean(), scale=df.Salary.std())"
   ]
  },
  {
   "cell_type": "code",
   "execution_count": 24,
   "metadata": {
    "collapsed": false
   },
   "outputs": [
    {
     "data": {
      "text/plain": [
       "(25094.723809012736, 80206.680215838554)"
      ]
     },
     "execution_count": 24,
     "metadata": {},
     "output_type": "execute_result"
    }
   ],
   "source": [
    "fitted_normal.std(), fitted_normal.mean()"
   ]
  },
  {
   "cell_type": "code",
   "execution_count": 25,
   "metadata": {
    "collapsed": false
   },
   "outputs": [],
   "source": [
    "x = np.linspace(df.Salary.min(), df.Salary.max(), 100)"
   ]
  },
  {
   "cell_type": "code",
   "execution_count": 26,
   "metadata": {
    "collapsed": false
   },
   "outputs": [
    {
     "data": {
      "image/png": "[encoded data removed]",
      "text/plain": [
       "<matplotlib.figure.Figure at 0x10ac872d0>"
      ]
     },
     "metadata": {},
     "output_type": "display_data"
    }
   ],
   "source": [
    "plt.figure()\n",
    "plt.hist(df.Salary.dropna().values, normed=True, histtype='stepfilled')\n",
    "plt.plot(x, fitted_normal.pdf(x), 'r', lw=5)\n",
    "plt.show()"
   ]
  },
  {
   "cell_type": "code",
   "execution_count": 27,
   "metadata": {
    "collapsed": false
   },
   "outputs": [
    {
     "data": {
      "image/png": "[encoded data removed]",
      "text/plain": [
       "<matplotlib.figure.Figure at 0x10accda50>"
      ]
     },
     "metadata": {},
     "output_type": "display_data"
    }
   ],
   "source": [
    "plt.plot(x,fitted_normal.sf(x), 'r', lw=5)\n",
    "plt.title('Survival Function of Fitted Normal Distribution')\n",
    "plt.show()"
   ]
  },
  {
   "cell_type": "code",
   "execution_count": 28,
   "metadata": {
    "collapsed": false
   },
   "outputs": [
    {
     "data": {
      "text/plain": [
       "9.8891561727224314e-19"
      ]
     },
     "execution_count": 28,
     "metadata": {},
     "output_type": "execute_result"
    }
   ],
   "source": [
    "fitted_normal.sf(300000)"
   ]
  },
  {
   "cell_type": "code",
   "execution_count": 29,
   "metadata": {
    "collapsed": false
   },
   "outputs": [
    {
     "data": {
      "text/plain": [
       "(629745163.05063069, -0.68450872985583655, 1.8892442465118831)"
      ]
     },
     "execution_count": 29,
     "metadata": {},
     "output_type": "execute_result"
    }
   ],
   "source": [
    "df.Salary.var(), df.Salary.skew(), df.Salary.kurtosis()"
   ]
  },
  {
   "cell_type": "code",
   "execution_count": 30,
   "metadata": {
    "collapsed": false
   },
   "outputs": [
    {
     "data": {
      "text/plain": [
       "(80206.680215838554, 25094.332446929646)"
      ]
     },
     "execution_count": 30,
     "metadata": {},
     "output_type": "execute_result"
    }
   ],
   "source": [
    "scipy.stats.norm.fit(df.Salary)"
   ]
  },
  {
   "cell_type": "code",
   "execution_count": 31,
   "metadata": {
    "collapsed": false
   },
   "outputs": [
    {
     "data": {
      "text/plain": [
       "<scipy.stats._distn_infrastructure.rv_frozen at 0x10aca4690>"
      ]
     },
     "execution_count": 31,
     "metadata": {},
     "output_type": "execute_result"
    }
   ],
   "source": [
    "lognorm_fit = scipy.stats.lognorm.fit(df.Salary)\n",
    "lognorm_distribution = scipy.stats.lognorm(s=lognorm_fit[0], loc=lognorm_fit[1], scale=lognorm_fit[2])\n",
    "lognorm_distribution"
   ]
  },
  {
   "cell_type": "code",
   "execution_count": 32,
   "metadata": {
    "collapsed": false
   },
   "outputs": [
    {
     "data": {
      "text/plain": [
       "[<matplotlib.lines.Line2D at 0x10aca4490>]"
      ]
     },
     "execution_count": 32,
     "metadata": {},
     "output_type": "execute_result"
    },
    {
     "data": {
      "image/png": "[encoded data removed]",
      "text/plain": [
       "<matplotlib.figure.Figure at 0x10aca41d0>"
      ]
     },
     "metadata": {},
     "output_type": "display_data"
    }
   ],
   "source": [
    "plt.hist(df.Salary, normed=True, histtype='stepfilled')\n",
    "plt.plot(x, lognorm_distribution.pdf(x), 'r', lw=5)"
   ]
  },
  {
   "cell_type": "code",
   "execution_count": 33,
   "metadata": {
    "collapsed": false
   },
   "outputs": [
    {
     "data": {
      "text/plain": [
       "[<matplotlib.lines.Line2D at 0x10b0caf90>]"
      ]
     },
     "execution_count": 33,
     "metadata": {},
     "output_type": "execute_result"
    },
    {
     "data": {
      "image/png": "[encoded data removed]",
      "text/plain": [
       "<matplotlib.figure.Figure at 0x10b0503d0>"
      ]
     },
     "metadata": {},
     "output_type": "display_data"
    }
   ],
   "source": [
    "plt.plot(x, lognorm_distribution.sf(x), 'r', lw=5)"
   ]
  },
  {
   "cell_type": "code",
   "execution_count": 34,
   "metadata": {
    "collapsed": false
   },
   "outputs": [
    {
     "data": {
      "text/plain": [
       "0.0"
      ]
     },
     "execution_count": 34,
     "metadata": {},
     "output_type": "execute_result"
    }
   ],
   "source": [
    "lognorm_distribution.sf(300000)"
   ]
  },
  {
   "cell_type": "code",
   "execution_count": 35,
   "metadata": {
    "collapsed": false
   },
   "outputs": [
    {
     "data": {
      "text/plain": [
       "(3.7170069978756147e-15, -69.306421423452804, 28307.253810282185)"
      ]
     },
     "execution_count": 35,
     "metadata": {},
     "output_type": "execute_result"
    }
   ],
   "source": [
    "alpha_fit = scipy.stats.alpha.fit(df.Salary)\n",
    "alpha_fit"
   ]
  },
  {
   "cell_type": "code",
   "execution_count": 36,
   "metadata": {
    "collapsed": false
   },
   "outputs": [],
   "source": [
    "fitted_alpha = scipy.stats.alpha(alpha_fit[0], alpha_fit[1], alpha_fit[2])"
   ]
  },
  {
   "cell_type": "code",
   "execution_count": 37,
   "metadata": {
    "collapsed": false
   },
   "outputs": [
    {
     "data": {
      "text/plain": [
       "[<matplotlib.lines.Line2D at 0x10b08e090>]"
      ]
     },
     "execution_count": 37,
     "metadata": {},
     "output_type": "execute_result"
    },
    {
     "data": {
      "image/png": "[encoded data removed]",
      "text/plain": [
       "<matplotlib.figure.Figure at 0x10af64290>"
      ]
     },
     "metadata": {},
     "output_type": "display_data"
    }
   ],
   "source": [
    "plt.hist(df.Salary, normed=True, histtype='stepfilled')\n",
    "plt.plot(x, fitted_alpha.pdf(x), 'r', lw=5)"
   ]
  },
  {
   "cell_type": "code",
   "execution_count": 38,
   "metadata": {
    "collapsed": false
   },
   "outputs": [
    {
     "data": {
      "text/plain": [
       "[<matplotlib.lines.Line2D at 0x10b3abc50>]"
      ]
     },
     "execution_count": 38,
     "metadata": {},
     "output_type": "execute_result"
    },
    {
     "data": {
      "image/png": "[encoded data removed]",
      "text/plain": [
       "<matplotlib.figure.Figure at 0x10b1dc410>"
      ]
     },
     "metadata": {},
     "output_type": "display_data"
    }
   ],
   "source": [
    "plt.plot(x, fitted_alpha.sf(x))"
   ]
  },
  {
   "cell_type": "code",
   "execution_count": 39,
   "metadata": {
    "collapsed": false
   },
   "outputs": [
    {
     "data": {
      "text/plain": [
       "0.075157523343034049"
      ]
     },
     "execution_count": 39,
     "metadata": {},
     "output_type": "execute_result"
    }
   ],
   "source": [
    "fitted_alpha.sf(300000)"
   ]
  },
  {
   "cell_type": "code",
   "execution_count": 40,
   "metadata": {
    "collapsed": false
   },
   "outputs": [
    {
     "data": {
      "text/plain": [
       "(0.30468726666024171, -2.2624896896805069, 2758.2624836242585)"
      ]
     },
     "execution_count": 40,
     "metadata": {},
     "output_type": "execute_result"
    }
   ],
   "source": [
    "pareto_fit = scipy.stats.pareto.fit(df.Salary)\n",
    "pareto_fit"
   ]
  },
  {
   "cell_type": "code",
   "execution_count": 41,
   "metadata": {
    "collapsed": true
   },
   "outputs": [],
   "source": [
    "fitted_pareto = scipy.stats.pareto(pareto_fit[0], pareto_fit[0], pareto_fit[0],)"
   ]
  },
  {
   "cell_type": "code",
   "execution_count": 42,
   "metadata": {
    "collapsed": false
   },
   "outputs": [
    {
     "data": {
      "text/plain": [
       "[<matplotlib.lines.Line2D at 0x10b466110>]"
      ]
     },
     "execution_count": 42,
     "metadata": {},
     "output_type": "execute_result"
    },
    {
     "data": {
      "image/png": "[encoded data removed]",
      "text/plain": [
       "<matplotlib.figure.Figure at 0x10b466290>"
      ]
     },
     "metadata": {},
     "output_type": "display_data"
    }
   ],
   "source": [
    "plt.hist(df.Salary, normed=True, histtype='stepfilled')\n",
    "plt.plot(x, fitted_pareto.pdf(x), 'r', lw=5)"
   ]
  },
  {
   "cell_type": "code",
   "execution_count": 43,
   "metadata": {
    "collapsed": false
   },
   "outputs": [
    {
     "data": {
      "text/plain": [
       "[<matplotlib.lines.Line2D at 0x10b65ac50>]"
      ]
     },
     "execution_count": 43,
     "metadata": {},
     "output_type": "execute_result"
    },
    {
     "data": {
      "image/png": "[encoded data removed]",
      "text/plain": [
       "<matplotlib.figure.Figure at 0x10b5d3c90>"
      ]
     },
     "metadata": {},
     "output_type": "display_data"
    }
   ],
   "source": [
    "plt.plot(x, fitted_pareto.sf(x))"
   ]
  },
  {
   "cell_type": "code",
   "execution_count": 44,
   "metadata": {
    "collapsed": false
   },
   "outputs": [
    {
     "data": {
      "text/plain": [
       "(274.16496251762089, -346299.13591695158, 1554.274382092929)"
      ]
     },
     "execution_count": 44,
     "metadata": {},
     "output_type": "execute_result"
    }
   ],
   "source": [
    "gamma_fit = scipy.stats.gamma.fit(df.Salary)\n",
    "gamma_fit"
   ]
  },
  {
   "cell_type": "code",
   "execution_count": 45,
   "metadata": {
    "collapsed": false
   },
   "outputs": [
    {
     "data": {
      "text/plain": [
       "[<matplotlib.lines.Line2D at 0x10b47f990>]"
      ]
     },
     "execution_count": 45,
     "metadata": {},
     "output_type": "execute_result"
    },
    {
     "data": {
      "image/png": "[encoded data removed]",
      "text/plain": [
       "<matplotlib.figure.Figure at 0x10b612cd0>"
      ]
     },
     "metadata": {},
     "output_type": "display_data"
    }
   ],
   "source": [
    "fitted_gamma = scipy.stats.gamma(gamma_fit[0], gamma_fit[1], gamma_fit[2])\n",
    "\n",
    "plt.hist(df.Salary, normed=True, histtype='stepfilled')\n",
    "plt.plot(x, fitted_gamma.pdf(x), 'r', lw=5)"
   ]
  },
  {
   "cell_type": "code",
   "execution_count": 46,
   "metadata": {
    "collapsed": false
   },
   "outputs": [
    {
     "data": {
      "text/plain": [
       "[<matplotlib.lines.Line2D at 0x10af58f90>]"
      ]
     },
     "execution_count": 46,
     "metadata": {},
     "output_type": "execute_result"
    },
    {
     "data": {
      "image/png": "[encoded data removed]",
      "text/plain": [
       "<matplotlib.figure.Figure at 0x10b7fd950>"
      ]
     },
     "metadata": {},
     "output_type": "display_data"
    }
   ],
   "source": [
    "plt.plot(x, fitted_gamma.sf(x))"
   ]
  },
  {
   "cell_type": "code",
   "execution_count": 47,
   "metadata": {
    "collapsed": false
   },
   "outputs": [
    {
     "data": {
      "text/plain": [
       "5.4260764837065559e-14"
      ]
     },
     "execution_count": 47,
     "metadata": {},
     "output_type": "execute_result"
    }
   ],
   "source": [
    "fitted_gamma.sf(300000)"
   ]
  },
  {
   "cell_type": "code",
   "execution_count": 48,
   "metadata": {
    "collapsed": false
   },
   "outputs": [
    {
     "data": {
      "text/plain": [
       "3.1190543027354106e-05"
      ]
     },
     "execution_count": 48,
     "metadata": {},
     "output_type": "execute_result"
    }
   ],
   "source": [
    "1.0/df.shape[0]"
   ]
  },
  {
   "cell_type": "code",
   "execution_count": 49,
   "metadata": {
    "collapsed": false
   },
   "outputs": [
    {
     "data": {
      "text/plain": [
       "(66786.091192358232, 29380.924368910561)"
      ]
     },
     "execution_count": 49,
     "metadata": {},
     "output_type": "execute_result"
    }
   ],
   "source": [
    "gumbel_r_fit = scipy.stats.gumbel_r.fit(df.Salary)\n",
    "gumbel_r_fit"
   ]
  },
  {
   "cell_type": "code",
   "execution_count": 50,
   "metadata": {
    "collapsed": false
   },
   "outputs": [
    {
     "data": {
      "text/plain": [
       "[<matplotlib.lines.Line2D at 0x10af4b750>]"
      ]
     },
     "execution_count": 50,
     "metadata": {},
     "output_type": "execute_result"
    },
    {
     "data": {
      "image/png": "[encoded data removed]",
      "text/plain": [
       "<matplotlib.figure.Figure at 0x10af3fed0>"
      ]
     },
     "metadata": {},
     "output_type": "display_data"
    }
   ],
   "source": [
    "fitted_gumbel_r = scipy.stats.gumbel_r(gumbel_r_fit[0], gumbel_r_fit[1])\n",
    "\n",
    "plt.hist(df.Salary, normed=True, histtype='stepfilled')\n",
    "plt.plot(x, fitted_gumbel_r.pdf(x), 'r', lw=5)"
   ]
  },
  {
   "cell_type": "code",
   "execution_count": 51,
   "metadata": {
    "collapsed": false
   },
   "outputs": [
    {
     "data": {
      "text/plain": [
       "[<matplotlib.lines.Line2D at 0x10b99fc90>]"
      ]
     },
     "execution_count": 51,
     "metadata": {},
     "output_type": "execute_result"
    },
    {
     "data": {
      "image/png": "[encoded data removed]",
      "text/plain": [
       "<matplotlib.figure.Figure at 0x10af0e6d0>"
      ]
     },
     "metadata": {},
     "output_type": "display_data"
    }
   ],
   "source": [
    "plt.plot(x, fitted_gumbel_r.sf(x))"
   ]
  },
  {
   "cell_type": "code",
   "execution_count": 52,
   "metadata": {
    "collapsed": false
   },
   "outputs": [
    {
     "data": {
      "text/plain": [
       "0.00035700007621530805"
      ]
     },
     "execution_count": 52,
     "metadata": {},
     "output_type": "execute_result"
    }
   ],
   "source": [
    "fitted_gumbel_r.sf(300000)"
   ]
  },
  {
   "cell_type": "code",
   "execution_count": 53,
   "metadata": {
    "collapsed": false
   },
   "outputs": [
    {
     "data": {
      "text/plain": [
       "(91439.361960652546, 29025.701813899137)"
      ]
     },
     "execution_count": 53,
     "metadata": {},
     "output_type": "execute_result"
    }
   ],
   "source": [
    "gumbel_l_fit = scipy.stats.gumbel_l.fit(df.Salary)\n",
    "gumbel_l_fit"
   ]
  },
  {
   "cell_type": "code",
   "execution_count": 54,
   "metadata": {
    "collapsed": false
   },
   "outputs": [
    {
     "data": {
      "text/plain": [
       "[<matplotlib.lines.Line2D at 0x10aec8850>]"
      ]
     },
     "execution_count": 54,
     "metadata": {},
     "output_type": "execute_result"
    },
    {
     "data": {
      "image/png": "[encoded data removed]",
      "text/plain": [
       "<matplotlib.figure.Figure at 0x10af04710>"
      ]
     },
     "metadata": {},
     "output_type": "display_data"
    }
   ],
   "source": [
    "fitted_gumbel_l = scipy.stats.gumbel_l(gumbel_l_fit[0], gumbel_l_fit[1])\n",
    "\n",
    "plt.hist(df.Salary, normed=True, histtype='stepfilled')\n",
    "plt.plot(x, fitted_gumbel_l.pdf(x), 'r', lw=5)"
   ]
  },
  {
   "cell_type": "code",
   "execution_count": 55,
   "metadata": {
    "collapsed": false
   },
   "outputs": [
    {
     "data": {
      "text/plain": [
       "(2755.9999999619604, 77391.088743183529)"
      ]
     },
     "execution_count": 55,
     "metadata": {},
     "output_type": "execute_result"
    }
   ],
   "source": [
    "expon_fit = scipy.stats.expon.fit(df.Salary)\n",
    "expon_fit"
   ]
  },
  {
   "cell_type": "code",
   "execution_count": 56,
   "metadata": {
    "collapsed": false
   },
   "outputs": [
    {
     "data": {
      "text/plain": [
       "[<matplotlib.lines.Line2D at 0x10aeecfd0>]"
      ]
     },
     "execution_count": 56,
     "metadata": {},
     "output_type": "execute_result"
    },
    {
     "data": {
      "image/png": "[encoded data removed]",
      "text/plain": [
       "<matplotlib.figure.Figure at 0x10bb1ea90>"
      ]
     },
     "metadata": {},
     "output_type": "display_data"
    }
   ],
   "source": [
    "fitted_expon = scipy.stats.expon(expon_fit[0], expon_fit[1])\n",
    "\n",
    "plt.hist(df.Salary, normed=True, histtype='stepfilled')\n",
    "plt.plot(x, fitted_expon.pdf(x), 'r', lw=5)"
   ]
  },
  {
   "cell_type": "code",
   "execution_count": 57,
   "metadata": {
    "collapsed": false
   },
   "outputs": [
    {
     "data": {
      "image/png": "[encoded data removed]",
      "text/plain": [
       "<matplotlib.figure.Figure at 0x10bbfd050>"
      ]
     },
     "metadata": {},
     "output_type": "display_data"
    }
   ],
   "source": [
    "plt.hist(df.Salary, normed=True, histtype='stepfilled')\n",
    "plt.plot(x, fitted_gumbel_r.pdf(x), 'r', lw=5)\n",
    "\n",
    "plt.gca().set_xscale('log')\n",
    "plt.gca().set_yscale('log')"
   ]
  },
  {
   "cell_type": "code",
   "execution_count": 58,
   "metadata": {
    "collapsed": false
   },
   "outputs": [
    {
     "data": {
      "text/plain": [
       "(-45.511487173979518, 0.0)"
      ]
     },
     "execution_count": 58,
     "metadata": {},
     "output_type": "execute_result"
    }
   ],
   "source": [
    "scipy.stats.skewtest(df.Salary)"
   ]
  },
  {
   "cell_type": "code",
   "execution_count": 59,
   "metadata": {
    "collapsed": false
   },
   "outputs": [
    {
     "data": {
      "text/plain": [
       "(8.2547357385747517, 300675.80545293575, 232038.99643075338)"
      ]
     },
     "execution_count": 59,
     "metadata": {},
     "output_type": "execute_result"
    }
   ],
   "source": [
    "frechet_l_fit = scipy.stats.frechet_l.fit(df.Salary)\n",
    "frechet_l_fit"
   ]
  },
  {
   "cell_type": "code",
   "execution_count": 60,
   "metadata": {
    "collapsed": false
   },
   "outputs": [
    {
     "data": {
      "text/plain": [
       "[<matplotlib.lines.Line2D at 0x10c001350>]"
      ]
     },
     "execution_count": 60,
     "metadata": {},
     "output_type": "execute_result"
    },
    {
     "data": {
      "image/png": "[encoded data removed]",
      "text/plain": [
       "<matplotlib.figure.Figure at 0x10bbee810>"
      ]
     },
     "metadata": {},
     "output_type": "display_data"
    }
   ],
   "source": [
    "fitted_frechet_l = scipy.stats.frechet_l(frechet_l_fit[0], frechet_l_fit[1], frechet_l_fit[2])\n",
    "\n",
    "plt.hist(df.Salary, normed=True, histtype='stepfilled')\n",
    "plt.plot(x, fitted_frechet_l.pdf(x), 'r', lw=5)"
   ]
  }
 ],
 "metadata": {
  "kernelspec": {
   "display_name": "Python 2",
   "language": "python",
   "name": "python2"
  },
  "language_info": {
   "codemirror_mode": {
    "name": "ipython",
    "version": 2
   },
   "file_extension": ".py",
   "mimetype": "text/x-python",
   "name": "python",
   "nbconvert_exporter": "python",
   "pygments_lexer": "ipython2",
   "version": "2.7.8"
  },
  "widgets": {
   "state": {},
   "version": "1.1.2"
  }
 },
 "nbformat": 4,
 "nbformat_minor": 0
}
