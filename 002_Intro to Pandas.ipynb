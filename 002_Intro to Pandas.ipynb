{
 "cells": [
  {
   "cell_type": "markdown",
   "metadata": {},
   "source": [
    "Introducing Pandas\n",
    "------------------"
   ]
  },
  {
   "cell_type": "code",
   "execution_count": 1,
   "metadata": {
    "collapsed": false
   },
   "outputs": [
    {
     "name": "stdout",
     "output_type": "stream",
     "text": [
      "Populating the interactive namespace from numpy and matplotlib\n"
     ]
    }
   ],
   "source": [
    "%pylab inline\n",
    "import pandas as pd"
   ]
  },
  {
   "cell_type": "markdown",
   "metadata": {},
   "source": [
    "Pandas is centered around objects called \"DataFrames\", which are basically just like little spreadsheets or tables. \n",
    "\n",
    "We can either construct a DataFrame, or import data into one. Let's try building one. "
   ]
  },
  {
   "cell_type": "code",
   "execution_count": 2,
   "metadata": {
    "collapsed": true
   },
   "outputs": [],
   "source": [
    "df = pd.DataFrame()"
   ]
  },
  {
   "cell_type": "code",
   "execution_count": 3,
   "metadata": {
    "collapsed": false
   },
   "outputs": [
    {
     "data": {
      "text/html": [
       "<div>\n",
       "<table border=\"1\" class=\"dataframe\">\n",
       "  <thead>\n",
       "    <tr style=\"text-align: right;\">\n",
       "      <th></th>\n",
       "    </tr>\n",
       "  </thead>\n",
       "  <tbody>\n",
       "  </tbody>\n",
       "</table>\n",
       "</div>"
      ],
      "text/plain": [
       "Empty DataFrame\n",
       "Columns: []\n",
       "Index: []"
      ]
     },
     "execution_count": 3,
     "metadata": {},
     "output_type": "execute_result"
    }
   ],
   "source": [
    "df"
   ]
  },
  {
   "cell_type": "markdown",
   "metadata": {},
   "source": [
    "There is nothing in this dataframe. Let's make one with something in it."
   ]
  },
  {
   "cell_type": "code",
   "execution_count": 4,
   "metadata": {
    "collapsed": false
   },
   "outputs": [],
   "source": [
    "data=np.random.randn(10, 5)\n",
    "df = pd.DataFrame(data=data)"
   ]
  },
  {
   "cell_type": "code",
   "execution_count": 5,
   "metadata": {
    "collapsed": false
   },
   "outputs": [
    {
     "data": {
      "text/html": [
       "<div>\n",
       "<table border=\"1\" class=\"dataframe\">\n",
       "  <thead>\n",
       "    <tr style=\"text-align: right;\">\n",
       "      <th></th>\n",
       "      <th>0</th>\n",
       "      <th>1</th>\n",
       "      <th>2</th>\n",
       "      <th>3</th>\n",
       "      <th>4</th>\n",
       "    </tr>\n",
       "  </thead>\n",
       "  <tbody>\n",
       "    <tr>\n",
       "      <th>0</th>\n",
       "      <td>0.836697</td>\n",
       "      <td>-0.839462</td>\n",
       "      <td>1.336284</td>\n",
       "      <td>1.417990</td>\n",
       "      <td>0.189500</td>\n",
       "    </tr>\n",
       "    <tr>\n",
       "      <th>1</th>\n",
       "      <td>-0.171867</td>\n",
       "      <td>-0.169535</td>\n",
       "      <td>-1.357715</td>\n",
       "      <td>0.452915</td>\n",
       "      <td>0.330742</td>\n",
       "    </tr>\n",
       "    <tr>\n",
       "      <th>2</th>\n",
       "      <td>-1.313472</td>\n",
       "      <td>-0.927824</td>\n",
       "      <td>-0.149022</td>\n",
       "      <td>1.564024</td>\n",
       "      <td>-0.369855</td>\n",
       "    </tr>\n",
       "    <tr>\n",
       "      <th>3</th>\n",
       "      <td>1.154903</td>\n",
       "      <td>-1.514609</td>\n",
       "      <td>0.482215</td>\n",
       "      <td>-2.780043</td>\n",
       "      <td>0.428720</td>\n",
       "    </tr>\n",
       "    <tr>\n",
       "      <th>4</th>\n",
       "      <td>-0.040283</td>\n",
       "      <td>-0.414214</td>\n",
       "      <td>-2.309142</td>\n",
       "      <td>-0.137398</td>\n",
       "      <td>-0.197653</td>\n",
       "    </tr>\n",
       "    <tr>\n",
       "      <th>5</th>\n",
       "      <td>0.021253</td>\n",
       "      <td>0.670824</td>\n",
       "      <td>0.817382</td>\n",
       "      <td>0.843827</td>\n",
       "      <td>0.675119</td>\n",
       "    </tr>\n",
       "    <tr>\n",
       "      <th>6</th>\n",
       "      <td>-1.391089</td>\n",
       "      <td>-1.301641</td>\n",
       "      <td>-0.449661</td>\n",
       "      <td>1.434894</td>\n",
       "      <td>0.079748</td>\n",
       "    </tr>\n",
       "    <tr>\n",
       "      <th>7</th>\n",
       "      <td>-0.273128</td>\n",
       "      <td>-0.709658</td>\n",
       "      <td>-0.078075</td>\n",
       "      <td>-2.331665</td>\n",
       "      <td>0.066463</td>\n",
       "    </tr>\n",
       "    <tr>\n",
       "      <th>8</th>\n",
       "      <td>-1.186528</td>\n",
       "      <td>0.044654</td>\n",
       "      <td>-2.252579</td>\n",
       "      <td>-1.168866</td>\n",
       "      <td>0.411427</td>\n",
       "    </tr>\n",
       "    <tr>\n",
       "      <th>9</th>\n",
       "      <td>0.538172</td>\n",
       "      <td>0.104430</td>\n",
       "      <td>0.627426</td>\n",
       "      <td>0.740090</td>\n",
       "      <td>0.876640</td>\n",
       "    </tr>\n",
       "  </tbody>\n",
       "</table>\n",
       "</div>"
      ],
      "text/plain": [
       "          0         1         2         3         4\n",
       "0  0.836697 -0.839462  1.336284  1.417990  0.189500\n",
       "1 -0.171867 -0.169535 -1.357715  0.452915  0.330742\n",
       "2 -1.313472 -0.927824 -0.149022  1.564024 -0.369855\n",
       "3  1.154903 -1.514609  0.482215 -2.780043  0.428720\n",
       "4 -0.040283 -0.414214 -2.309142 -0.137398 -0.197653\n",
       "5  0.021253  0.670824  0.817382  0.843827  0.675119\n",
       "6 -1.391089 -1.301641 -0.449661  1.434894  0.079748\n",
       "7 -0.273128 -0.709658 -0.078075 -2.331665  0.066463\n",
       "8 -1.186528  0.044654 -2.252579 -1.168866  0.411427\n",
       "9  0.538172  0.104430  0.627426  0.740090  0.876640"
      ]
     },
     "execution_count": 5,
     "metadata": {},
     "output_type": "execute_result"
    }
   ],
   "source": [
    "df"
   ]
  },
  {
   "cell_type": "markdown",
   "metadata": {},
   "source": [
    "The top row lists the name for the columns. The leftmost column contains the index. In this case, because we did not specify names for either the columns or the indices, they defaulted to integer values. \n",
    "\n",
    "We can rename the columns. "
   ]
  },
  {
   "cell_type": "code",
   "execution_count": 6,
   "metadata": {
    "collapsed": false
   },
   "outputs": [
    {
     "data": {
      "text/plain": [
       "RangeIndex(start=0, stop=5, step=1)"
      ]
     },
     "execution_count": 6,
     "metadata": {},
     "output_type": "execute_result"
    }
   ],
   "source": [
    "# this gets the columns\n",
    "df.columns"
   ]
  },
  {
   "cell_type": "code",
   "execution_count": 7,
   "metadata": {
    "collapsed": true
   },
   "outputs": [],
   "source": [
    "# we can set them like this \n",
    "df.columns = ['a', 'b', 'c', 'd', 'e']"
   ]
  },
  {
   "cell_type": "code",
   "execution_count": 8,
   "metadata": {
    "collapsed": false
   },
   "outputs": [
    {
     "data": {
      "text/html": [
       "<div>\n",
       "<table border=\"1\" class=\"dataframe\">\n",
       "  <thead>\n",
       "    <tr style=\"text-align: right;\">\n",
       "      <th></th>\n",
       "      <th>a</th>\n",
       "      <th>b</th>\n",
       "      <th>c</th>\n",
       "      <th>d</th>\n",
       "      <th>e</th>\n",
       "    </tr>\n",
       "  </thead>\n",
       "  <tbody>\n",
       "    <tr>\n",
       "      <th>0</th>\n",
       "      <td>0.836697</td>\n",
       "      <td>-0.839462</td>\n",
       "      <td>1.336284</td>\n",
       "      <td>1.417990</td>\n",
       "      <td>0.189500</td>\n",
       "    </tr>\n",
       "    <tr>\n",
       "      <th>1</th>\n",
       "      <td>-0.171867</td>\n",
       "      <td>-0.169535</td>\n",
       "      <td>-1.357715</td>\n",
       "      <td>0.452915</td>\n",
       "      <td>0.330742</td>\n",
       "    </tr>\n",
       "    <tr>\n",
       "      <th>2</th>\n",
       "      <td>-1.313472</td>\n",
       "      <td>-0.927824</td>\n",
       "      <td>-0.149022</td>\n",
       "      <td>1.564024</td>\n",
       "      <td>-0.369855</td>\n",
       "    </tr>\n",
       "    <tr>\n",
       "      <th>3</th>\n",
       "      <td>1.154903</td>\n",
       "      <td>-1.514609</td>\n",
       "      <td>0.482215</td>\n",
       "      <td>-2.780043</td>\n",
       "      <td>0.428720</td>\n",
       "    </tr>\n",
       "    <tr>\n",
       "      <th>4</th>\n",
       "      <td>-0.040283</td>\n",
       "      <td>-0.414214</td>\n",
       "      <td>-2.309142</td>\n",
       "      <td>-0.137398</td>\n",
       "      <td>-0.197653</td>\n",
       "    </tr>\n",
       "    <tr>\n",
       "      <th>5</th>\n",
       "      <td>0.021253</td>\n",
       "      <td>0.670824</td>\n",
       "      <td>0.817382</td>\n",
       "      <td>0.843827</td>\n",
       "      <td>0.675119</td>\n",
       "    </tr>\n",
       "    <tr>\n",
       "      <th>6</th>\n",
       "      <td>-1.391089</td>\n",
       "      <td>-1.301641</td>\n",
       "      <td>-0.449661</td>\n",
       "      <td>1.434894</td>\n",
       "      <td>0.079748</td>\n",
       "    </tr>\n",
       "    <tr>\n",
       "      <th>7</th>\n",
       "      <td>-0.273128</td>\n",
       "      <td>-0.709658</td>\n",
       "      <td>-0.078075</td>\n",
       "      <td>-2.331665</td>\n",
       "      <td>0.066463</td>\n",
       "    </tr>\n",
       "    <tr>\n",
       "      <th>8</th>\n",
       "      <td>-1.186528</td>\n",
       "      <td>0.044654</td>\n",
       "      <td>-2.252579</td>\n",
       "      <td>-1.168866</td>\n",
       "      <td>0.411427</td>\n",
       "    </tr>\n",
       "    <tr>\n",
       "      <th>9</th>\n",
       "      <td>0.538172</td>\n",
       "      <td>0.104430</td>\n",
       "      <td>0.627426</td>\n",
       "      <td>0.740090</td>\n",
       "      <td>0.876640</td>\n",
       "    </tr>\n",
       "  </tbody>\n",
       "</table>\n",
       "</div>"
      ],
      "text/plain": [
       "          a         b         c         d         e\n",
       "0  0.836697 -0.839462  1.336284  1.417990  0.189500\n",
       "1 -0.171867 -0.169535 -1.357715  0.452915  0.330742\n",
       "2 -1.313472 -0.927824 -0.149022  1.564024 -0.369855\n",
       "3  1.154903 -1.514609  0.482215 -2.780043  0.428720\n",
       "4 -0.040283 -0.414214 -2.309142 -0.137398 -0.197653\n",
       "5  0.021253  0.670824  0.817382  0.843827  0.675119\n",
       "6 -1.391089 -1.301641 -0.449661  1.434894  0.079748\n",
       "7 -0.273128 -0.709658 -0.078075 -2.331665  0.066463\n",
       "8 -1.186528  0.044654 -2.252579 -1.168866  0.411427\n",
       "9  0.538172  0.104430  0.627426  0.740090  0.876640"
      ]
     },
     "execution_count": 8,
     "metadata": {},
     "output_type": "execute_result"
    }
   ],
   "source": [
    "df"
   ]
  },
  {
   "cell_type": "markdown",
   "metadata": {},
   "source": [
    "There are two ways of accessing contents of the dataframe: by label and by integer index. It is important to be aware of the difference. \n",
    "\n",
    "To access a column we can use square backets [ ] and the label of the column, much like a python dictionary."
   ]
  },
  {
   "cell_type": "code",
   "execution_count": 9,
   "metadata": {
    "collapsed": false
   },
   "outputs": [
    {
     "data": {
      "text/plain": [
       "0   -0.839462\n",
       "1   -0.169535\n",
       "2   -0.927824\n",
       "3   -1.514609\n",
       "4   -0.414214\n",
       "5    0.670824\n",
       "6   -1.301641\n",
       "7   -0.709658\n",
       "8    0.044654\n",
       "9    0.104430\n",
       "Name: b, dtype: float64"
      ]
     },
     "execution_count": 9,
     "metadata": {},
     "output_type": "execute_result"
    }
   ],
   "source": [
    "df['b']"
   ]
  },
  {
   "cell_type": "markdown",
   "metadata": {},
   "source": [
    "This returns what Pandas calls a \"Series\" object. A Series ie like a single slice of a dataframe, and is not necessarly a row or a column. \n",
    "\n",
    "Notice there is an index on the left that matches the index of the DataFrame, a Name, and a dtype associated with the data in the series. "
   ]
  },
  {
   "cell_type": "markdown",
   "metadata": {},
   "source": [
    "We can access multiple columns at a time by passing a list of column names"
   ]
  },
  {
   "cell_type": "code",
   "execution_count": 10,
   "metadata": {
    "collapsed": false
   },
   "outputs": [
    {
     "data": {
      "text/html": [
       "<div>\n",
       "<table border=\"1\" class=\"dataframe\">\n",
       "  <thead>\n",
       "    <tr style=\"text-align: right;\">\n",
       "      <th></th>\n",
       "      <th>a</th>\n",
       "      <th>c</th>\n",
       "    </tr>\n",
       "  </thead>\n",
       "  <tbody>\n",
       "    <tr>\n",
       "      <th>0</th>\n",
       "      <td>0.836697</td>\n",
       "      <td>1.336284</td>\n",
       "    </tr>\n",
       "    <tr>\n",
       "      <th>1</th>\n",
       "      <td>-0.171867</td>\n",
       "      <td>-1.357715</td>\n",
       "    </tr>\n",
       "    <tr>\n",
       "      <th>2</th>\n",
       "      <td>-1.313472</td>\n",
       "      <td>-0.149022</td>\n",
       "    </tr>\n",
       "    <tr>\n",
       "      <th>3</th>\n",
       "      <td>1.154903</td>\n",
       "      <td>0.482215</td>\n",
       "    </tr>\n",
       "    <tr>\n",
       "      <th>4</th>\n",
       "      <td>-0.040283</td>\n",
       "      <td>-2.309142</td>\n",
       "    </tr>\n",
       "    <tr>\n",
       "      <th>5</th>\n",
       "      <td>0.021253</td>\n",
       "      <td>0.817382</td>\n",
       "    </tr>\n",
       "    <tr>\n",
       "      <th>6</th>\n",
       "      <td>-1.391089</td>\n",
       "      <td>-0.449661</td>\n",
       "    </tr>\n",
       "    <tr>\n",
       "      <th>7</th>\n",
       "      <td>-0.273128</td>\n",
       "      <td>-0.078075</td>\n",
       "    </tr>\n",
       "    <tr>\n",
       "      <th>8</th>\n",
       "      <td>-1.186528</td>\n",
       "      <td>-2.252579</td>\n",
       "    </tr>\n",
       "    <tr>\n",
       "      <th>9</th>\n",
       "      <td>0.538172</td>\n",
       "      <td>0.627426</td>\n",
       "    </tr>\n",
       "  </tbody>\n",
       "</table>\n",
       "</div>"
      ],
      "text/plain": [
       "          a         c\n",
       "0  0.836697  1.336284\n",
       "1 -0.171867 -1.357715\n",
       "2 -1.313472 -0.149022\n",
       "3  1.154903  0.482215\n",
       "4 -0.040283 -2.309142\n",
       "5  0.021253  0.817382\n",
       "6 -1.391089 -0.449661\n",
       "7 -0.273128 -0.078075\n",
       "8 -1.186528 -2.252579\n",
       "9  0.538172  0.627426"
      ]
     },
     "execution_count": 10,
     "metadata": {},
     "output_type": "execute_result"
    }
   ],
   "source": [
    "df[['a','c']]"
   ]
  },
  {
   "cell_type": "markdown",
   "metadata": {},
   "source": [
    "This returns a DataFrame rather than a series. \n",
    "\n",
    "\n",
    "We can also use dot-notation to access a column"
   ]
  },
  {
   "cell_type": "code",
   "execution_count": 11,
   "metadata": {
    "collapsed": false
   },
   "outputs": [
    {
     "data": {
      "text/plain": [
       "0    0.836697\n",
       "1   -0.171867\n",
       "2   -1.313472\n",
       "3    1.154903\n",
       "4   -0.040283\n",
       "5    0.021253\n",
       "6   -1.391089\n",
       "7   -0.273128\n",
       "8   -1.186528\n",
       "9    0.538172\n",
       "Name: a, dtype: float64"
      ]
     },
     "execution_count": 11,
     "metadata": {},
     "output_type": "execute_result"
    }
   ],
   "source": [
    "df.a"
   ]
  },
  {
   "cell_type": "markdown",
   "metadata": {},
   "source": [
    "But only one at a time. "
   ]
  },
  {
   "cell_type": "code",
   "execution_count": 12,
   "metadata": {
    "collapsed": false
   },
   "outputs": [
    {
     "ename": "AttributeError",
     "evalue": "'Series' object has no attribute 'b'",
     "output_type": "error",
     "traceback": [
      "\u001b[0;31m---------------------------------------------------------------------------\u001b[0m",
      "\u001b[0;31mAttributeError\u001b[0m                            Traceback (most recent call last)",
      "\u001b[0;32m<ipython-input-12-9d64c5fd899f>\u001b[0m in \u001b[0;36m<module>\u001b[0;34m()\u001b[0m\n\u001b[0;32m----> 1\u001b[0;31m \u001b[0mdf\u001b[0m\u001b[0;34m.\u001b[0m\u001b[0ma\u001b[0m\u001b[0;34m.\u001b[0m\u001b[0mb\u001b[0m\u001b[0;34m\u001b[0m\u001b[0m\n\u001b[0m",
      "\u001b[0;32m/usr/local/lib/python2.7/site-packages/pandas/core/generic.pyc\u001b[0m in \u001b[0;36m__getattr__\u001b[0;34m(self, name)\u001b[0m\n\u001b[1;32m   2667\u001b[0m             \u001b[0;32mif\u001b[0m \u001b[0mname\u001b[0m \u001b[0;32min\u001b[0m \u001b[0mself\u001b[0m\u001b[0;34m.\u001b[0m\u001b[0m_info_axis\u001b[0m\u001b[0;34m:\u001b[0m\u001b[0;34m\u001b[0m\u001b[0m\n\u001b[1;32m   2668\u001b[0m                 \u001b[0;32mreturn\u001b[0m \u001b[0mself\u001b[0m\u001b[0;34m[\u001b[0m\u001b[0mname\u001b[0m\u001b[0;34m]\u001b[0m\u001b[0;34m\u001b[0m\u001b[0m\n\u001b[0;32m-> 2669\u001b[0;31m             \u001b[0;32mreturn\u001b[0m \u001b[0mobject\u001b[0m\u001b[0;34m.\u001b[0m\u001b[0m__getattribute__\u001b[0m\u001b[0;34m(\u001b[0m\u001b[0mself\u001b[0m\u001b[0;34m,\u001b[0m \u001b[0mname\u001b[0m\u001b[0;34m)\u001b[0m\u001b[0;34m\u001b[0m\u001b[0m\n\u001b[0m\u001b[1;32m   2670\u001b[0m \u001b[0;34m\u001b[0m\u001b[0m\n\u001b[1;32m   2671\u001b[0m     \u001b[0;32mdef\u001b[0m \u001b[0m__setattr__\u001b[0m\u001b[0;34m(\u001b[0m\u001b[0mself\u001b[0m\u001b[0;34m,\u001b[0m \u001b[0mname\u001b[0m\u001b[0;34m,\u001b[0m \u001b[0mvalue\u001b[0m\u001b[0;34m)\u001b[0m\u001b[0;34m:\u001b[0m\u001b[0;34m\u001b[0m\u001b[0m\n",
      "\u001b[0;31mAttributeError\u001b[0m: 'Series' object has no attribute 'b'"
     ]
    }
   ],
   "source": [
    "df.a.b"
   ]
  },
  {
   "cell_type": "markdown",
   "metadata": {},
   "source": [
    "If we ever just want the data values in a dataframe or series, we can get them easily with .values attribute"
   ]
  },
  {
   "cell_type": "code",
   "execution_count": 13,
   "metadata": {
    "collapsed": false
   },
   "outputs": [
    {
     "data": {
      "text/plain": [
       "array([[ 0.8366966 , -0.8394623 ,  1.33628353,  1.41798996,  0.18950015],\n",
       "       [-0.17186714, -0.16953487, -1.35771529,  0.4529153 ,  0.33074198],\n",
       "       [-1.31347217, -0.92782438, -0.14902234,  1.56402432, -0.36985509],\n",
       "       [ 1.15490295, -1.51460947,  0.48221522, -2.78004274,  0.42872031],\n",
       "       [-0.040283  , -0.41421396, -2.30914245, -0.13739811, -0.19765303],\n",
       "       [ 0.02125342,  0.67082438,  0.81738176,  0.84382654,  0.67511893],\n",
       "       [-1.39108932, -1.30164112, -0.44966107,  1.43489428,  0.0797483 ],\n",
       "       [-0.27312846, -0.70965834, -0.0780746 , -2.331665  ,  0.06646344],\n",
       "       [-1.18652792,  0.04465394, -2.25257929, -1.16886592,  0.41142727],\n",
       "       [ 0.53817241,  0.10443028,  0.62742564,  0.74008999,  0.87664029]])"
      ]
     },
     "execution_count": 13,
     "metadata": {},
     "output_type": "execute_result"
    }
   ],
   "source": [
    "df.values"
   ]
  },
  {
   "cell_type": "code",
   "execution_count": 14,
   "metadata": {
    "collapsed": false
   },
   "outputs": [
    {
     "data": {
      "text/plain": [
       "array([ 1.33628353, -1.35771529, -0.14902234,  0.48221522, -2.30914245,\n",
       "        0.81738176, -0.44966107, -0.0780746 , -2.25257929,  0.62742564])"
      ]
     },
     "execution_count": 14,
     "metadata": {},
     "output_type": "execute_result"
    }
   ],
   "source": [
    "df.c.values"
   ]
  },
  {
   "cell_type": "markdown",
   "metadata": {},
   "source": [
    "We can transpose the DataFrame i.e. switch rows and columns"
   ]
  },
  {
   "cell_type": "code",
   "execution_count": 15,
   "metadata": {
    "collapsed": false
   },
   "outputs": [
    {
     "data": {
      "text/html": [
       "<div>\n",
       "<table border=\"1\" class=\"dataframe\">\n",
       "  <thead>\n",
       "    <tr style=\"text-align: right;\">\n",
       "      <th></th>\n",
       "      <th>0</th>\n",
       "      <th>1</th>\n",
       "      <th>2</th>\n",
       "      <th>3</th>\n",
       "      <th>4</th>\n",
       "      <th>5</th>\n",
       "      <th>6</th>\n",
       "      <th>7</th>\n",
       "      <th>8</th>\n",
       "      <th>9</th>\n",
       "    </tr>\n",
       "  </thead>\n",
       "  <tbody>\n",
       "    <tr>\n",
       "      <th>a</th>\n",
       "      <td>0.836697</td>\n",
       "      <td>-0.171867</td>\n",
       "      <td>-1.313472</td>\n",
       "      <td>1.154903</td>\n",
       "      <td>-0.040283</td>\n",
       "      <td>0.021253</td>\n",
       "      <td>-1.391089</td>\n",
       "      <td>-0.273128</td>\n",
       "      <td>-1.186528</td>\n",
       "      <td>0.538172</td>\n",
       "    </tr>\n",
       "    <tr>\n",
       "      <th>b</th>\n",
       "      <td>-0.839462</td>\n",
       "      <td>-0.169535</td>\n",
       "      <td>-0.927824</td>\n",
       "      <td>-1.514609</td>\n",
       "      <td>-0.414214</td>\n",
       "      <td>0.670824</td>\n",
       "      <td>-1.301641</td>\n",
       "      <td>-0.709658</td>\n",
       "      <td>0.044654</td>\n",
       "      <td>0.104430</td>\n",
       "    </tr>\n",
       "    <tr>\n",
       "      <th>c</th>\n",
       "      <td>1.336284</td>\n",
       "      <td>-1.357715</td>\n",
       "      <td>-0.149022</td>\n",
       "      <td>0.482215</td>\n",
       "      <td>-2.309142</td>\n",
       "      <td>0.817382</td>\n",
       "      <td>-0.449661</td>\n",
       "      <td>-0.078075</td>\n",
       "      <td>-2.252579</td>\n",
       "      <td>0.627426</td>\n",
       "    </tr>\n",
       "    <tr>\n",
       "      <th>d</th>\n",
       "      <td>1.417990</td>\n",
       "      <td>0.452915</td>\n",
       "      <td>1.564024</td>\n",
       "      <td>-2.780043</td>\n",
       "      <td>-0.137398</td>\n",
       "      <td>0.843827</td>\n",
       "      <td>1.434894</td>\n",
       "      <td>-2.331665</td>\n",
       "      <td>-1.168866</td>\n",
       "      <td>0.740090</td>\n",
       "    </tr>\n",
       "    <tr>\n",
       "      <th>e</th>\n",
       "      <td>0.189500</td>\n",
       "      <td>0.330742</td>\n",
       "      <td>-0.369855</td>\n",
       "      <td>0.428720</td>\n",
       "      <td>-0.197653</td>\n",
       "      <td>0.675119</td>\n",
       "      <td>0.079748</td>\n",
       "      <td>0.066463</td>\n",
       "      <td>0.411427</td>\n",
       "      <td>0.876640</td>\n",
       "    </tr>\n",
       "  </tbody>\n",
       "</table>\n",
       "</div>"
      ],
      "text/plain": [
       "          0         1         2         3         4         5         6  \\\n",
       "a  0.836697 -0.171867 -1.313472  1.154903 -0.040283  0.021253 -1.391089   \n",
       "b -0.839462 -0.169535 -0.927824 -1.514609 -0.414214  0.670824 -1.301641   \n",
       "c  1.336284 -1.357715 -0.149022  0.482215 -2.309142  0.817382 -0.449661   \n",
       "d  1.417990  0.452915  1.564024 -2.780043 -0.137398  0.843827  1.434894   \n",
       "e  0.189500  0.330742 -0.369855  0.428720 -0.197653  0.675119  0.079748   \n",
       "\n",
       "          7         8         9  \n",
       "a -0.273128 -1.186528  0.538172  \n",
       "b -0.709658  0.044654  0.104430  \n",
       "c -0.078075 -2.252579  0.627426  \n",
       "d -2.331665 -1.168866  0.740090  \n",
       "e  0.066463  0.411427  0.876640  "
      ]
     },
     "execution_count": 15,
     "metadata": {},
     "output_type": "execute_result"
    }
   ],
   "source": [
    "df = df.T\n",
    "df"
   ]
  },
  {
   "cell_type": "markdown",
   "metadata": {},
   "source": [
    "Using the .loc method, we can select a row from our datframe by its label"
   ]
  },
  {
   "cell_type": "code",
   "execution_count": 16,
   "metadata": {
    "collapsed": false
   },
   "outputs": [
    {
     "data": {
      "text/plain": [
       "0    0.836697\n",
       "1   -0.171867\n",
       "2   -1.313472\n",
       "3    1.154903\n",
       "4   -0.040283\n",
       "5    0.021253\n",
       "6   -1.391089\n",
       "7   -0.273128\n",
       "8   -1.186528\n",
       "9    0.538172\n",
       "Name: a, dtype: float64"
      ]
     },
     "execution_count": 16,
     "metadata": {},
     "output_type": "execute_result"
    }
   ],
   "source": [
    "df.loc['a']"
   ]
  },
  {
   "cell_type": "markdown",
   "metadata": {},
   "source": [
    "If we pass an item that is not in the index, we get an error"
   ]
  },
  {
   "cell_type": "code",
   "execution_count": 17,
   "metadata": {
    "collapsed": false
   },
   "outputs": [
    {
     "ename": "TypeError",
     "evalue": "cannot do label indexing on <class 'pandas.indexes.base.Index'> with these indexers [1] of <type 'int'>",
     "output_type": "error",
     "traceback": [
      "\u001b[0;31m---------------------------------------------------------------------------\u001b[0m",
      "\u001b[0;31mTypeError\u001b[0m                                 Traceback (most recent call last)",
      "\u001b[0;32m<ipython-input-17-a3732eea6ed6>\u001b[0m in \u001b[0;36m<module>\u001b[0;34m()\u001b[0m\n\u001b[0;32m----> 1\u001b[0;31m \u001b[0mdf\u001b[0m\u001b[0;34m.\u001b[0m\u001b[0mloc\u001b[0m\u001b[0;34m[\u001b[0m\u001b[0;36m1\u001b[0m\u001b[0;34m]\u001b[0m\u001b[0;34m\u001b[0m\u001b[0m\n\u001b[0m",
      "\u001b[0;32m/usr/local/lib/python2.7/site-packages/pandas/core/indexing.pyc\u001b[0m in \u001b[0;36m__getitem__\u001b[0;34m(self, key)\u001b[0m\n\u001b[1;32m   1284\u001b[0m             \u001b[0;32mreturn\u001b[0m \u001b[0mself\u001b[0m\u001b[0;34m.\u001b[0m\u001b[0m_getitem_tuple\u001b[0m\u001b[0;34m(\u001b[0m\u001b[0mkey\u001b[0m\u001b[0;34m)\u001b[0m\u001b[0;34m\u001b[0m\u001b[0m\n\u001b[1;32m   1285\u001b[0m         \u001b[0;32melse\u001b[0m\u001b[0;34m:\u001b[0m\u001b[0;34m\u001b[0m\u001b[0m\n\u001b[0;32m-> 1286\u001b[0;31m             \u001b[0;32mreturn\u001b[0m \u001b[0mself\u001b[0m\u001b[0;34m.\u001b[0m\u001b[0m_getitem_axis\u001b[0m\u001b[0;34m(\u001b[0m\u001b[0mkey\u001b[0m\u001b[0;34m,\u001b[0m \u001b[0maxis\u001b[0m\u001b[0;34m=\u001b[0m\u001b[0;36m0\u001b[0m\u001b[0;34m)\u001b[0m\u001b[0;34m\u001b[0m\u001b[0m\n\u001b[0m\u001b[1;32m   1287\u001b[0m \u001b[0;34m\u001b[0m\u001b[0m\n\u001b[1;32m   1288\u001b[0m     \u001b[0;32mdef\u001b[0m \u001b[0m_getitem_axis\u001b[0m\u001b[0;34m(\u001b[0m\u001b[0mself\u001b[0m\u001b[0;34m,\u001b[0m \u001b[0mkey\u001b[0m\u001b[0;34m,\u001b[0m \u001b[0maxis\u001b[0m\u001b[0;34m=\u001b[0m\u001b[0;36m0\u001b[0m\u001b[0;34m)\u001b[0m\u001b[0;34m:\u001b[0m\u001b[0;34m\u001b[0m\u001b[0m\n",
      "\u001b[0;32m/usr/local/lib/python2.7/site-packages/pandas/core/indexing.pyc\u001b[0m in \u001b[0;36m_getitem_axis\u001b[0;34m(self, key, axis)\u001b[0m\n\u001b[1;32m   1427\u001b[0m \u001b[0;34m\u001b[0m\u001b[0m\n\u001b[1;32m   1428\u001b[0m         \u001b[0;31m# fall thru to straight lookup\u001b[0m\u001b[0;34m\u001b[0m\u001b[0;34m\u001b[0m\u001b[0m\n\u001b[0;32m-> 1429\u001b[0;31m         \u001b[0mself\u001b[0m\u001b[0;34m.\u001b[0m\u001b[0m_has_valid_type\u001b[0m\u001b[0;34m(\u001b[0m\u001b[0mkey\u001b[0m\u001b[0;34m,\u001b[0m \u001b[0maxis\u001b[0m\u001b[0;34m)\u001b[0m\u001b[0;34m\u001b[0m\u001b[0m\n\u001b[0m\u001b[1;32m   1430\u001b[0m         \u001b[0;32mreturn\u001b[0m \u001b[0mself\u001b[0m\u001b[0;34m.\u001b[0m\u001b[0m_get_label\u001b[0m\u001b[0;34m(\u001b[0m\u001b[0mkey\u001b[0m\u001b[0;34m,\u001b[0m \u001b[0maxis\u001b[0m\u001b[0;34m=\u001b[0m\u001b[0maxis\u001b[0m\u001b[0;34m)\u001b[0m\u001b[0;34m\u001b[0m\u001b[0m\n\u001b[1;32m   1431\u001b[0m \u001b[0;34m\u001b[0m\u001b[0m\n",
      "\u001b[0;32m/usr/local/lib/python2.7/site-packages/pandas/core/indexing.pyc\u001b[0m in \u001b[0;36m_has_valid_type\u001b[0;34m(self, key, axis)\u001b[0m\n\u001b[1;32m   1379\u001b[0m \u001b[0;34m\u001b[0m\u001b[0m\n\u001b[1;32m   1380\u001b[0m             \u001b[0;32mtry\u001b[0m\u001b[0;34m:\u001b[0m\u001b[0;34m\u001b[0m\u001b[0m\n\u001b[0;32m-> 1381\u001b[0;31m                 \u001b[0mkey\u001b[0m \u001b[0;34m=\u001b[0m \u001b[0mself\u001b[0m\u001b[0;34m.\u001b[0m\u001b[0m_convert_scalar_indexer\u001b[0m\u001b[0;34m(\u001b[0m\u001b[0mkey\u001b[0m\u001b[0;34m,\u001b[0m \u001b[0maxis\u001b[0m\u001b[0;34m)\u001b[0m\u001b[0;34m\u001b[0m\u001b[0m\n\u001b[0m\u001b[1;32m   1382\u001b[0m                 \u001b[0;32mif\u001b[0m \u001b[0mkey\u001b[0m \u001b[0;32mnot\u001b[0m \u001b[0;32min\u001b[0m \u001b[0max\u001b[0m\u001b[0;34m:\u001b[0m\u001b[0;34m\u001b[0m\u001b[0m\n\u001b[1;32m   1383\u001b[0m                     \u001b[0merror\u001b[0m\u001b[0;34m(\u001b[0m\u001b[0;34m)\u001b[0m\u001b[0;34m\u001b[0m\u001b[0m\n",
      "\u001b[0;32m/usr/local/lib/python2.7/site-packages/pandas/core/indexing.pyc\u001b[0m in \u001b[0;36m_convert_scalar_indexer\u001b[0;34m(self, key, axis)\u001b[0m\n\u001b[1;32m    181\u001b[0m         \u001b[0max\u001b[0m \u001b[0;34m=\u001b[0m \u001b[0mself\u001b[0m\u001b[0;34m.\u001b[0m\u001b[0mobj\u001b[0m\u001b[0;34m.\u001b[0m\u001b[0m_get_axis\u001b[0m\u001b[0;34m(\u001b[0m\u001b[0mmin\u001b[0m\u001b[0;34m(\u001b[0m\u001b[0maxis\u001b[0m\u001b[0;34m,\u001b[0m \u001b[0mself\u001b[0m\u001b[0;34m.\u001b[0m\u001b[0mndim\u001b[0m \u001b[0;34m-\u001b[0m \u001b[0;36m1\u001b[0m\u001b[0;34m)\u001b[0m\u001b[0;34m)\u001b[0m\u001b[0;34m\u001b[0m\u001b[0m\n\u001b[1;32m    182\u001b[0m         \u001b[0;31m# a scalar\u001b[0m\u001b[0;34m\u001b[0m\u001b[0;34m\u001b[0m\u001b[0m\n\u001b[0;32m--> 183\u001b[0;31m         \u001b[0;32mreturn\u001b[0m \u001b[0max\u001b[0m\u001b[0;34m.\u001b[0m\u001b[0m_convert_scalar_indexer\u001b[0m\u001b[0;34m(\u001b[0m\u001b[0mkey\u001b[0m\u001b[0;34m,\u001b[0m \u001b[0mkind\u001b[0m\u001b[0;34m=\u001b[0m\u001b[0mself\u001b[0m\u001b[0;34m.\u001b[0m\u001b[0mname\u001b[0m\u001b[0;34m)\u001b[0m\u001b[0;34m\u001b[0m\u001b[0m\n\u001b[0m\u001b[1;32m    184\u001b[0m \u001b[0;34m\u001b[0m\u001b[0m\n\u001b[1;32m    185\u001b[0m     \u001b[0;32mdef\u001b[0m \u001b[0m_convert_slice_indexer\u001b[0m\u001b[0;34m(\u001b[0m\u001b[0mself\u001b[0m\u001b[0;34m,\u001b[0m \u001b[0mkey\u001b[0m\u001b[0;34m,\u001b[0m \u001b[0maxis\u001b[0m\u001b[0;34m)\u001b[0m\u001b[0;34m:\u001b[0m\u001b[0;34m\u001b[0m\u001b[0m\n",
      "\u001b[0;32m/usr/local/lib/python2.7/site-packages/pandas/indexes/base.pyc\u001b[0m in \u001b[0;36m_convert_scalar_indexer\u001b[0;34m(self, key, kind)\u001b[0m\n\u001b[1;32m   1002\u001b[0m             \u001b[0;32melif\u001b[0m \u001b[0mkind\u001b[0m \u001b[0;32min\u001b[0m \u001b[0;34m[\u001b[0m\u001b[0;34m'loc'\u001b[0m\u001b[0;34m]\u001b[0m \u001b[0;32mand\u001b[0m \u001b[0mis_integer\u001b[0m\u001b[0;34m(\u001b[0m\u001b[0mkey\u001b[0m\u001b[0;34m)\u001b[0m\u001b[0;34m:\u001b[0m\u001b[0;34m\u001b[0m\u001b[0m\n\u001b[1;32m   1003\u001b[0m                 \u001b[0;32mif\u001b[0m \u001b[0;32mnot\u001b[0m \u001b[0mself\u001b[0m\u001b[0;34m.\u001b[0m\u001b[0mholds_integer\u001b[0m\u001b[0;34m(\u001b[0m\u001b[0;34m)\u001b[0m\u001b[0;34m:\u001b[0m\u001b[0;34m\u001b[0m\u001b[0m\n\u001b[0;32m-> 1004\u001b[0;31m                     \u001b[0;32mreturn\u001b[0m \u001b[0mself\u001b[0m\u001b[0;34m.\u001b[0m\u001b[0m_invalid_indexer\u001b[0m\u001b[0;34m(\u001b[0m\u001b[0;34m'label'\u001b[0m\u001b[0;34m,\u001b[0m \u001b[0mkey\u001b[0m\u001b[0;34m)\u001b[0m\u001b[0;34m\u001b[0m\u001b[0m\n\u001b[0m\u001b[1;32m   1005\u001b[0m \u001b[0;34m\u001b[0m\u001b[0m\n\u001b[1;32m   1006\u001b[0m         \u001b[0;32mreturn\u001b[0m \u001b[0mkey\u001b[0m\u001b[0;34m\u001b[0m\u001b[0m\n",
      "\u001b[0;32m/usr/local/lib/python2.7/site-packages/pandas/indexes/base.pyc\u001b[0m in \u001b[0;36m_invalid_indexer\u001b[0;34m(self, form, key)\u001b[0m\n\u001b[1;32m   1115\u001b[0m                         \"indexers [{key}] of {kind}\".format(\n\u001b[1;32m   1116\u001b[0m                             \u001b[0mform\u001b[0m\u001b[0;34m=\u001b[0m\u001b[0mform\u001b[0m\u001b[0;34m,\u001b[0m \u001b[0mklass\u001b[0m\u001b[0;34m=\u001b[0m\u001b[0mtype\u001b[0m\u001b[0;34m(\u001b[0m\u001b[0mself\u001b[0m\u001b[0;34m)\u001b[0m\u001b[0;34m,\u001b[0m \u001b[0mkey\u001b[0m\u001b[0;34m=\u001b[0m\u001b[0mkey\u001b[0m\u001b[0;34m,\u001b[0m\u001b[0;34m\u001b[0m\u001b[0m\n\u001b[0;32m-> 1117\u001b[0;31m                             kind=type(key)))\n\u001b[0m\u001b[1;32m   1118\u001b[0m \u001b[0;34m\u001b[0m\u001b[0m\n\u001b[1;32m   1119\u001b[0m     \u001b[0;32mdef\u001b[0m \u001b[0mget_duplicates\u001b[0m\u001b[0;34m(\u001b[0m\u001b[0mself\u001b[0m\u001b[0;34m)\u001b[0m\u001b[0;34m:\u001b[0m\u001b[0;34m\u001b[0m\u001b[0m\n",
      "\u001b[0;31mTypeError\u001b[0m: cannot do label indexing on <class 'pandas.indexes.base.Index'> with these indexers [1] of <type 'int'>"
     ]
    }
   ],
   "source": [
    "df.loc[1]"
   ]
  },
  {
   "cell_type": "markdown",
   "metadata": {},
   "source": [
    "If we wanted to access the row according to a numerical index rather than label, we can use .iloc"
   ]
  },
  {
   "cell_type": "code",
   "execution_count": 18,
   "metadata": {
    "collapsed": false
   },
   "outputs": [
    {
     "data": {
      "text/plain": [
       "0    0.836697\n",
       "1   -0.171867\n",
       "2   -1.313472\n",
       "3    1.154903\n",
       "4   -0.040283\n",
       "5    0.021253\n",
       "6   -1.391089\n",
       "7   -0.273128\n",
       "8   -1.186528\n",
       "9    0.538172\n",
       "Name: a, dtype: float64"
      ]
     },
     "execution_count": 18,
     "metadata": {},
     "output_type": "execute_result"
    }
   ],
   "source": [
    "df.iloc[0]"
   ]
  },
  {
   "cell_type": "markdown",
   "metadata": {},
   "source": [
    "We can delete columns using the del function "
   ]
  },
  {
   "cell_type": "code",
   "execution_count": 19,
   "metadata": {
    "collapsed": false
   },
   "outputs": [],
   "source": [
    "del df[2]\n",
    "del df[3]"
   ]
  },
  {
   "cell_type": "code",
   "execution_count": 20,
   "metadata": {
    "collapsed": false
   },
   "outputs": [
    {
     "data": {
      "text/html": [
       "<div>\n",
       "<table border=\"1\" class=\"dataframe\">\n",
       "  <thead>\n",
       "    <tr style=\"text-align: right;\">\n",
       "      <th></th>\n",
       "      <th>0</th>\n",
       "      <th>1</th>\n",
       "      <th>4</th>\n",
       "      <th>5</th>\n",
       "      <th>6</th>\n",
       "      <th>7</th>\n",
       "      <th>8</th>\n",
       "      <th>9</th>\n",
       "    </tr>\n",
       "  </thead>\n",
       "  <tbody>\n",
       "    <tr>\n",
       "      <th>a</th>\n",
       "      <td>0.836697</td>\n",
       "      <td>-0.171867</td>\n",
       "      <td>-0.040283</td>\n",
       "      <td>0.021253</td>\n",
       "      <td>-1.391089</td>\n",
       "      <td>-0.273128</td>\n",
       "      <td>-1.186528</td>\n",
       "      <td>0.538172</td>\n",
       "    </tr>\n",
       "    <tr>\n",
       "      <th>b</th>\n",
       "      <td>-0.839462</td>\n",
       "      <td>-0.169535</td>\n",
       "      <td>-0.414214</td>\n",
       "      <td>0.670824</td>\n",
       "      <td>-1.301641</td>\n",
       "      <td>-0.709658</td>\n",
       "      <td>0.044654</td>\n",
       "      <td>0.104430</td>\n",
       "    </tr>\n",
       "    <tr>\n",
       "      <th>c</th>\n",
       "      <td>1.336284</td>\n",
       "      <td>-1.357715</td>\n",
       "      <td>-2.309142</td>\n",
       "      <td>0.817382</td>\n",
       "      <td>-0.449661</td>\n",
       "      <td>-0.078075</td>\n",
       "      <td>-2.252579</td>\n",
       "      <td>0.627426</td>\n",
       "    </tr>\n",
       "    <tr>\n",
       "      <th>d</th>\n",
       "      <td>1.417990</td>\n",
       "      <td>0.452915</td>\n",
       "      <td>-0.137398</td>\n",
       "      <td>0.843827</td>\n",
       "      <td>1.434894</td>\n",
       "      <td>-2.331665</td>\n",
       "      <td>-1.168866</td>\n",
       "      <td>0.740090</td>\n",
       "    </tr>\n",
       "    <tr>\n",
       "      <th>e</th>\n",
       "      <td>0.189500</td>\n",
       "      <td>0.330742</td>\n",
       "      <td>-0.197653</td>\n",
       "      <td>0.675119</td>\n",
       "      <td>0.079748</td>\n",
       "      <td>0.066463</td>\n",
       "      <td>0.411427</td>\n",
       "      <td>0.876640</td>\n",
       "    </tr>\n",
       "  </tbody>\n",
       "</table>\n",
       "</div>"
      ],
      "text/plain": [
       "          0         1         4         5         6         7         8  \\\n",
       "a  0.836697 -0.171867 -0.040283  0.021253 -1.391089 -0.273128 -1.186528   \n",
       "b -0.839462 -0.169535 -0.414214  0.670824 -1.301641 -0.709658  0.044654   \n",
       "c  1.336284 -1.357715 -2.309142  0.817382 -0.449661 -0.078075 -2.252579   \n",
       "d  1.417990  0.452915 -0.137398  0.843827  1.434894 -2.331665 -1.168866   \n",
       "e  0.189500  0.330742 -0.197653  0.675119  0.079748  0.066463  0.411427   \n",
       "\n",
       "          9  \n",
       "a  0.538172  \n",
       "b  0.104430  \n",
       "c  0.627426  \n",
       "d  0.740090  \n",
       "e  0.876640  "
      ]
     },
     "execution_count": 20,
     "metadata": {},
     "output_type": "execute_result"
    }
   ],
   "source": [
    "df"
   ]
  },
  {
   "cell_type": "markdown",
   "metadata": {},
   "source": [
    "Let's transpose the dataframe again. "
   ]
  },
  {
   "cell_type": "code",
   "execution_count": 21,
   "metadata": {
    "collapsed": false
   },
   "outputs": [
    {
     "data": {
      "text/html": [
       "<div>\n",
       "<table border=\"1\" class=\"dataframe\">\n",
       "  <thead>\n",
       "    <tr style=\"text-align: right;\">\n",
       "      <th></th>\n",
       "      <th>a</th>\n",
       "      <th>b</th>\n",
       "      <th>c</th>\n",
       "      <th>d</th>\n",
       "      <th>e</th>\n",
       "    </tr>\n",
       "  </thead>\n",
       "  <tbody>\n",
       "    <tr>\n",
       "      <th>0</th>\n",
       "      <td>0.836697</td>\n",
       "      <td>-0.839462</td>\n",
       "      <td>1.336284</td>\n",
       "      <td>1.417990</td>\n",
       "      <td>0.189500</td>\n",
       "    </tr>\n",
       "    <tr>\n",
       "      <th>1</th>\n",
       "      <td>-0.171867</td>\n",
       "      <td>-0.169535</td>\n",
       "      <td>-1.357715</td>\n",
       "      <td>0.452915</td>\n",
       "      <td>0.330742</td>\n",
       "    </tr>\n",
       "    <tr>\n",
       "      <th>4</th>\n",
       "      <td>-0.040283</td>\n",
       "      <td>-0.414214</td>\n",
       "      <td>-2.309142</td>\n",
       "      <td>-0.137398</td>\n",
       "      <td>-0.197653</td>\n",
       "    </tr>\n",
       "    <tr>\n",
       "      <th>5</th>\n",
       "      <td>0.021253</td>\n",
       "      <td>0.670824</td>\n",
       "      <td>0.817382</td>\n",
       "      <td>0.843827</td>\n",
       "      <td>0.675119</td>\n",
       "    </tr>\n",
       "    <tr>\n",
       "      <th>6</th>\n",
       "      <td>-1.391089</td>\n",
       "      <td>-1.301641</td>\n",
       "      <td>-0.449661</td>\n",
       "      <td>1.434894</td>\n",
       "      <td>0.079748</td>\n",
       "    </tr>\n",
       "    <tr>\n",
       "      <th>7</th>\n",
       "      <td>-0.273128</td>\n",
       "      <td>-0.709658</td>\n",
       "      <td>-0.078075</td>\n",
       "      <td>-2.331665</td>\n",
       "      <td>0.066463</td>\n",
       "    </tr>\n",
       "    <tr>\n",
       "      <th>8</th>\n",
       "      <td>-1.186528</td>\n",
       "      <td>0.044654</td>\n",
       "      <td>-2.252579</td>\n",
       "      <td>-1.168866</td>\n",
       "      <td>0.411427</td>\n",
       "    </tr>\n",
       "    <tr>\n",
       "      <th>9</th>\n",
       "      <td>0.538172</td>\n",
       "      <td>0.104430</td>\n",
       "      <td>0.627426</td>\n",
       "      <td>0.740090</td>\n",
       "      <td>0.876640</td>\n",
       "    </tr>\n",
       "  </tbody>\n",
       "</table>\n",
       "</div>"
      ],
      "text/plain": [
       "          a         b         c         d         e\n",
       "0  0.836697 -0.839462  1.336284  1.417990  0.189500\n",
       "1 -0.171867 -0.169535 -1.357715  0.452915  0.330742\n",
       "4 -0.040283 -0.414214 -2.309142 -0.137398 -0.197653\n",
       "5  0.021253  0.670824  0.817382  0.843827  0.675119\n",
       "6 -1.391089 -1.301641 -0.449661  1.434894  0.079748\n",
       "7 -0.273128 -0.709658 -0.078075 -2.331665  0.066463\n",
       "8 -1.186528  0.044654 -2.252579 -1.168866  0.411427\n",
       "9  0.538172  0.104430  0.627426  0.740090  0.876640"
      ]
     },
     "execution_count": 21,
     "metadata": {},
     "output_type": "execute_result"
    }
   ],
   "source": [
    "df = df.T\n",
    "df"
   ]
  },
  {
   "cell_type": "markdown",
   "metadata": {},
   "source": [
    "Notice the index on the left jumps from 1 to 4, i.e. it skips 2 and 3 (because we deleted them). Let's look again at the difference between label and numerical index access. \n",
    "\n",
    "Let's say we want to grab the third column, and we want to do it with labels. The index for the third row is labeled 4. "
   ]
  },
  {
   "cell_type": "code",
   "execution_count": 22,
   "metadata": {
    "collapsed": false
   },
   "outputs": [
    {
     "data": {
      "text/plain": [
       "a   -0.040283\n",
       "b   -0.414214\n",
       "c   -2.309142\n",
       "d   -0.137398\n",
       "e   -0.197653\n",
       "Name: 4, dtype: float64"
      ]
     },
     "execution_count": 22,
     "metadata": {},
     "output_type": "execute_result"
    }
   ],
   "source": [
    "df.loc[4]"
   ]
  },
  {
   "cell_type": "markdown",
   "metadata": {},
   "source": [
    "If we use .iloc, we need the right numerical index, not label. Because python (and pandas) is 0 indexed, the 3rd item corresponds to index 2"
   ]
  },
  {
   "cell_type": "code",
   "execution_count": 23,
   "metadata": {
    "collapsed": false
   },
   "outputs": [
    {
     "data": {
      "text/plain": [
       "a   -0.040283\n",
       "b   -0.414214\n",
       "c   -2.309142\n",
       "d   -0.137398\n",
       "e   -0.197653\n",
       "Name: 4, dtype: float64"
      ]
     },
     "execution_count": 23,
     "metadata": {},
     "output_type": "execute_result"
    }
   ],
   "source": [
    "df.iloc[2]"
   ]
  },
  {
   "cell_type": "markdown",
   "metadata": {},
   "source": [
    "You can see how this could get you into trouble. Make sure you know which you are using and that you are consistent with that usage. \n",
    "\n",
    "There are two more cases worth mentioning: accessing a column by numerical index, and accessing a specific value (or set of vlues) with multiple indexes. \n",
    "\n",
    "To access a column by numerical index, we use the .iloc method and the colon : to mean 'all' as in 'all rows'. "
   ]
  },
  {
   "cell_type": "code",
   "execution_count": 24,
   "metadata": {
    "collapsed": false
   },
   "outputs": [
    {
     "data": {
      "text/plain": [
       "0    0.836697\n",
       "1   -0.171867\n",
       "4   -0.040283\n",
       "5    0.021253\n",
       "6   -1.391089\n",
       "7   -0.273128\n",
       "8   -1.186528\n",
       "9    0.538172\n",
       "Name: a, dtype: float64"
      ]
     },
     "execution_count": 24,
     "metadata": {},
     "output_type": "execute_result"
    }
   ],
   "source": [
    "df.iloc[:,0]"
   ]
  },
  {
   "cell_type": "code",
   "execution_count": 25,
   "metadata": {
    "collapsed": false
   },
   "outputs": [
    {
     "data": {
      "text/html": [
       "<div>\n",
       "<table border=\"1\" class=\"dataframe\">\n",
       "  <thead>\n",
       "    <tr style=\"text-align: right;\">\n",
       "      <th></th>\n",
       "      <th>a</th>\n",
       "      <th>b</th>\n",
       "      <th>c</th>\n",
       "      <th>d</th>\n",
       "      <th>e</th>\n",
       "    </tr>\n",
       "  </thead>\n",
       "  <tbody>\n",
       "    <tr>\n",
       "      <th>0</th>\n",
       "      <td>0.836697</td>\n",
       "      <td>-0.839462</td>\n",
       "      <td>1.336284</td>\n",
       "      <td>1.417990</td>\n",
       "      <td>0.189500</td>\n",
       "    </tr>\n",
       "    <tr>\n",
       "      <th>1</th>\n",
       "      <td>-0.171867</td>\n",
       "      <td>-0.169535</td>\n",
       "      <td>-1.357715</td>\n",
       "      <td>0.452915</td>\n",
       "      <td>0.330742</td>\n",
       "    </tr>\n",
       "    <tr>\n",
       "      <th>4</th>\n",
       "      <td>-0.040283</td>\n",
       "      <td>-0.414214</td>\n",
       "      <td>-2.309142</td>\n",
       "      <td>-0.137398</td>\n",
       "      <td>-0.197653</td>\n",
       "    </tr>\n",
       "    <tr>\n",
       "      <th>5</th>\n",
       "      <td>0.021253</td>\n",
       "      <td>0.670824</td>\n",
       "      <td>0.817382</td>\n",
       "      <td>0.843827</td>\n",
       "      <td>0.675119</td>\n",
       "    </tr>\n",
       "    <tr>\n",
       "      <th>6</th>\n",
       "      <td>-1.391089</td>\n",
       "      <td>-1.301641</td>\n",
       "      <td>-0.449661</td>\n",
       "      <td>1.434894</td>\n",
       "      <td>0.079748</td>\n",
       "    </tr>\n",
       "    <tr>\n",
       "      <th>7</th>\n",
       "      <td>-0.273128</td>\n",
       "      <td>-0.709658</td>\n",
       "      <td>-0.078075</td>\n",
       "      <td>-2.331665</td>\n",
       "      <td>0.066463</td>\n",
       "    </tr>\n",
       "    <tr>\n",
       "      <th>8</th>\n",
       "      <td>-1.186528</td>\n",
       "      <td>0.044654</td>\n",
       "      <td>-2.252579</td>\n",
       "      <td>-1.168866</td>\n",
       "      <td>0.411427</td>\n",
       "    </tr>\n",
       "    <tr>\n",
       "      <th>9</th>\n",
       "      <td>0.538172</td>\n",
       "      <td>0.104430</td>\n",
       "      <td>0.627426</td>\n",
       "      <td>0.740090</td>\n",
       "      <td>0.876640</td>\n",
       "    </tr>\n",
       "  </tbody>\n",
       "</table>\n",
       "</div>"
      ],
      "text/plain": [
       "          a         b         c         d         e\n",
       "0  0.836697 -0.839462  1.336284  1.417990  0.189500\n",
       "1 -0.171867 -0.169535 -1.357715  0.452915  0.330742\n",
       "4 -0.040283 -0.414214 -2.309142 -0.137398 -0.197653\n",
       "5  0.021253  0.670824  0.817382  0.843827  0.675119\n",
       "6 -1.391089 -1.301641 -0.449661  1.434894  0.079748\n",
       "7 -0.273128 -0.709658 -0.078075 -2.331665  0.066463\n",
       "8 -1.186528  0.044654 -2.252579 -1.168866  0.411427\n",
       "9  0.538172  0.104430  0.627426  0.740090  0.876640"
      ]
     },
     "execution_count": 25,
     "metadata": {},
     "output_type": "execute_result"
    }
   ],
   "source": [
    "df"
   ]
  },
  {
   "cell_type": "markdown",
   "metadata": {},
   "source": [
    "To access a specific value, we use multiple indexes in [row, column] format (paying attention to whetehr we are referring to labels or numerical indexes). "
   ]
  },
  {
   "cell_type": "code",
   "execution_count": 26,
   "metadata": {
    "collapsed": false
   },
   "outputs": [
    {
     "data": {
      "text/plain": [
       "-0.19765303002621146"
      ]
     },
     "execution_count": 26,
     "metadata": {},
     "output_type": "execute_result"
    }
   ],
   "source": [
    "df.loc[4,'e']"
   ]
  },
  {
   "cell_type": "code",
   "execution_count": 27,
   "metadata": {
    "collapsed": false
   },
   "outputs": [
    {
     "data": {
      "text/plain": [
       "0.079748301679611486"
      ]
     },
     "execution_count": 27,
     "metadata": {},
     "output_type": "execute_result"
    }
   ],
   "source": [
    "df.iloc[4,4]"
   ]
  },
  {
   "cell_type": "markdown",
   "metadata": {},
   "source": [
    "Couple of things left to do before we move on. \n",
    "\n",
    "Let's say we want to filter out any row whose value in column e is negative i.e. < 0. We can uyse a bollean to check the truth value"
   ]
  },
  {
   "cell_type": "code",
   "execution_count": 28,
   "metadata": {
    "collapsed": false
   },
   "outputs": [
    {
     "data": {
      "text/plain": [
       "0     True\n",
       "1     True\n",
       "4    False\n",
       "5     True\n",
       "6     True\n",
       "7     True\n",
       "8     True\n",
       "9     True\n",
       "Name: e, dtype: bool"
      ]
     },
     "execution_count": 28,
     "metadata": {},
     "output_type": "execute_result"
    }
   ],
   "source": [
    "df.e>=0"
   ]
  },
  {
   "cell_type": "markdown",
   "metadata": {},
   "source": [
    "This returns a series of True/False entries. We can use this as an index to filter our orignal dataframe"
   ]
  },
  {
   "cell_type": "code",
   "execution_count": 29,
   "metadata": {
    "collapsed": false
   },
   "outputs": [
    {
     "data": {
      "text/html": [
       "<div>\n",
       "<table border=\"1\" class=\"dataframe\">\n",
       "  <thead>\n",
       "    <tr style=\"text-align: right;\">\n",
       "      <th></th>\n",
       "      <th>a</th>\n",
       "      <th>b</th>\n",
       "      <th>c</th>\n",
       "      <th>d</th>\n",
       "      <th>e</th>\n",
       "    </tr>\n",
       "  </thead>\n",
       "  <tbody>\n",
       "    <tr>\n",
       "      <th>0</th>\n",
       "      <td>0.836697</td>\n",
       "      <td>-0.839462</td>\n",
       "      <td>1.336284</td>\n",
       "      <td>1.417990</td>\n",
       "      <td>0.189500</td>\n",
       "    </tr>\n",
       "    <tr>\n",
       "      <th>1</th>\n",
       "      <td>-0.171867</td>\n",
       "      <td>-0.169535</td>\n",
       "      <td>-1.357715</td>\n",
       "      <td>0.452915</td>\n",
       "      <td>0.330742</td>\n",
       "    </tr>\n",
       "    <tr>\n",
       "      <th>5</th>\n",
       "      <td>0.021253</td>\n",
       "      <td>0.670824</td>\n",
       "      <td>0.817382</td>\n",
       "      <td>0.843827</td>\n",
       "      <td>0.675119</td>\n",
       "    </tr>\n",
       "    <tr>\n",
       "      <th>6</th>\n",
       "      <td>-1.391089</td>\n",
       "      <td>-1.301641</td>\n",
       "      <td>-0.449661</td>\n",
       "      <td>1.434894</td>\n",
       "      <td>0.079748</td>\n",
       "    </tr>\n",
       "    <tr>\n",
       "      <th>7</th>\n",
       "      <td>-0.273128</td>\n",
       "      <td>-0.709658</td>\n",
       "      <td>-0.078075</td>\n",
       "      <td>-2.331665</td>\n",
       "      <td>0.066463</td>\n",
       "    </tr>\n",
       "    <tr>\n",
       "      <th>8</th>\n",
       "      <td>-1.186528</td>\n",
       "      <td>0.044654</td>\n",
       "      <td>-2.252579</td>\n",
       "      <td>-1.168866</td>\n",
       "      <td>0.411427</td>\n",
       "    </tr>\n",
       "    <tr>\n",
       "      <th>9</th>\n",
       "      <td>0.538172</td>\n",
       "      <td>0.104430</td>\n",
       "      <td>0.627426</td>\n",
       "      <td>0.740090</td>\n",
       "      <td>0.876640</td>\n",
       "    </tr>\n",
       "  </tbody>\n",
       "</table>\n",
       "</div>"
      ],
      "text/plain": [
       "          a         b         c         d         e\n",
       "0  0.836697 -0.839462  1.336284  1.417990  0.189500\n",
       "1 -0.171867 -0.169535 -1.357715  0.452915  0.330742\n",
       "5  0.021253  0.670824  0.817382  0.843827  0.675119\n",
       "6 -1.391089 -1.301641 -0.449661  1.434894  0.079748\n",
       "7 -0.273128 -0.709658 -0.078075 -2.331665  0.066463\n",
       "8 -1.186528  0.044654 -2.252579 -1.168866  0.411427\n",
       "9  0.538172  0.104430  0.627426  0.740090  0.876640"
      ]
     },
     "execution_count": 29,
     "metadata": {},
     "output_type": "execute_result"
    }
   ],
   "source": [
    "df[df.e>=0]"
   ]
  },
  {
   "cell_type": "markdown",
   "metadata": {},
   "source": [
    "Finally, worth noting is that pandas is sometimes inconsistent as to whether it returns a 'view' or a 'copy' when you do something with it. This means you may change things you don't intend to if you are expoecting a copy but get a view. To make sure this does not happen, it is good practice to use an explicit copy method liberally"
   ]
  },
  {
   "cell_type": "code",
   "execution_count": 30,
   "metadata": {
    "collapsed": true
   },
   "outputs": [],
   "source": [
    "df_filtered = df[df.e>=0].copy()"
   ]
  },
  {
   "cell_type": "code",
   "execution_count": 31,
   "metadata": {
    "collapsed": false
   },
   "outputs": [
    {
     "data": {
      "text/html": [
       "<div>\n",
       "<table border=\"1\" class=\"dataframe\">\n",
       "  <thead>\n",
       "    <tr style=\"text-align: right;\">\n",
       "      <th></th>\n",
       "      <th>a</th>\n",
       "      <th>b</th>\n",
       "      <th>c</th>\n",
       "      <th>d</th>\n",
       "      <th>e</th>\n",
       "    </tr>\n",
       "  </thead>\n",
       "  <tbody>\n",
       "    <tr>\n",
       "      <th>0</th>\n",
       "      <td>0.836697</td>\n",
       "      <td>-0.839462</td>\n",
       "      <td>1.336284</td>\n",
       "      <td>1.417990</td>\n",
       "      <td>0.189500</td>\n",
       "    </tr>\n",
       "    <tr>\n",
       "      <th>1</th>\n",
       "      <td>-0.171867</td>\n",
       "      <td>-0.169535</td>\n",
       "      <td>-1.357715</td>\n",
       "      <td>0.452915</td>\n",
       "      <td>0.330742</td>\n",
       "    </tr>\n",
       "    <tr>\n",
       "      <th>5</th>\n",
       "      <td>0.021253</td>\n",
       "      <td>0.670824</td>\n",
       "      <td>0.817382</td>\n",
       "      <td>0.843827</td>\n",
       "      <td>0.675119</td>\n",
       "    </tr>\n",
       "    <tr>\n",
       "      <th>6</th>\n",
       "      <td>-1.391089</td>\n",
       "      <td>-1.301641</td>\n",
       "      <td>-0.449661</td>\n",
       "      <td>1.434894</td>\n",
       "      <td>0.079748</td>\n",
       "    </tr>\n",
       "    <tr>\n",
       "      <th>7</th>\n",
       "      <td>-0.273128</td>\n",
       "      <td>-0.709658</td>\n",
       "      <td>-0.078075</td>\n",
       "      <td>-2.331665</td>\n",
       "      <td>0.066463</td>\n",
       "    </tr>\n",
       "    <tr>\n",
       "      <th>8</th>\n",
       "      <td>-1.186528</td>\n",
       "      <td>0.044654</td>\n",
       "      <td>-2.252579</td>\n",
       "      <td>-1.168866</td>\n",
       "      <td>0.411427</td>\n",
       "    </tr>\n",
       "    <tr>\n",
       "      <th>9</th>\n",
       "      <td>0.538172</td>\n",
       "      <td>0.104430</td>\n",
       "      <td>0.627426</td>\n",
       "      <td>0.740090</td>\n",
       "      <td>0.876640</td>\n",
       "    </tr>\n",
       "  </tbody>\n",
       "</table>\n",
       "</div>"
      ],
      "text/plain": [
       "          a         b         c         d         e\n",
       "0  0.836697 -0.839462  1.336284  1.417990  0.189500\n",
       "1 -0.171867 -0.169535 -1.357715  0.452915  0.330742\n",
       "5  0.021253  0.670824  0.817382  0.843827  0.675119\n",
       "6 -1.391089 -1.301641 -0.449661  1.434894  0.079748\n",
       "7 -0.273128 -0.709658 -0.078075 -2.331665  0.066463\n",
       "8 -1.186528  0.044654 -2.252579 -1.168866  0.411427\n",
       "9  0.538172  0.104430  0.627426  0.740090  0.876640"
      ]
     },
     "execution_count": 31,
     "metadata": {},
     "output_type": "execute_result"
    }
   ],
   "source": [
    "df_filtered"
   ]
  },
  {
   "cell_type": "markdown",
   "metadata": {},
   "source": [
    "Now we can be confident that any changes we make to df_filtered will not affect df. \n",
    "\n",
    "We can also, of course, set individual values. "
   ]
  },
  {
   "cell_type": "code",
   "execution_count": 32,
   "metadata": {
    "collapsed": false
   },
   "outputs": [],
   "source": [
    "df.loc[0,'a'] = 1"
   ]
  },
  {
   "cell_type": "markdown",
   "metadata": {},
   "source": [
    "Or a whole column (make sure dimensions match)"
   ]
  },
  {
   "cell_type": "code",
   "execution_count": 33,
   "metadata": {
    "collapsed": false
   },
   "outputs": [],
   "source": [
    "df['a'] = np.random.randint(10, size=8)"
   ]
  },
  {
   "cell_type": "code",
   "execution_count": 34,
   "metadata": {
    "collapsed": false
   },
   "outputs": [
    {
     "data": {
      "text/html": [
       "<div>\n",
       "<table border=\"1\" class=\"dataframe\">\n",
       "  <thead>\n",
       "    <tr style=\"text-align: right;\">\n",
       "      <th></th>\n",
       "      <th>a</th>\n",
       "      <th>b</th>\n",
       "      <th>c</th>\n",
       "      <th>d</th>\n",
       "      <th>e</th>\n",
       "    </tr>\n",
       "  </thead>\n",
       "  <tbody>\n",
       "    <tr>\n",
       "      <th>0</th>\n",
       "      <td>9</td>\n",
       "      <td>-0.839462</td>\n",
       "      <td>1.336284</td>\n",
       "      <td>1.417990</td>\n",
       "      <td>0.189500</td>\n",
       "    </tr>\n",
       "    <tr>\n",
       "      <th>1</th>\n",
       "      <td>7</td>\n",
       "      <td>-0.169535</td>\n",
       "      <td>-1.357715</td>\n",
       "      <td>0.452915</td>\n",
       "      <td>0.330742</td>\n",
       "    </tr>\n",
       "    <tr>\n",
       "      <th>4</th>\n",
       "      <td>7</td>\n",
       "      <td>-0.414214</td>\n",
       "      <td>-2.309142</td>\n",
       "      <td>-0.137398</td>\n",
       "      <td>-0.197653</td>\n",
       "    </tr>\n",
       "    <tr>\n",
       "      <th>5</th>\n",
       "      <td>4</td>\n",
       "      <td>0.670824</td>\n",
       "      <td>0.817382</td>\n",
       "      <td>0.843827</td>\n",
       "      <td>0.675119</td>\n",
       "    </tr>\n",
       "    <tr>\n",
       "      <th>6</th>\n",
       "      <td>4</td>\n",
       "      <td>-1.301641</td>\n",
       "      <td>-0.449661</td>\n",
       "      <td>1.434894</td>\n",
       "      <td>0.079748</td>\n",
       "    </tr>\n",
       "    <tr>\n",
       "      <th>7</th>\n",
       "      <td>6</td>\n",
       "      <td>-0.709658</td>\n",
       "      <td>-0.078075</td>\n",
       "      <td>-2.331665</td>\n",
       "      <td>0.066463</td>\n",
       "    </tr>\n",
       "    <tr>\n",
       "      <th>8</th>\n",
       "      <td>5</td>\n",
       "      <td>0.044654</td>\n",
       "      <td>-2.252579</td>\n",
       "      <td>-1.168866</td>\n",
       "      <td>0.411427</td>\n",
       "    </tr>\n",
       "    <tr>\n",
       "      <th>9</th>\n",
       "      <td>1</td>\n",
       "      <td>0.104430</td>\n",
       "      <td>0.627426</td>\n",
       "      <td>0.740090</td>\n",
       "      <td>0.876640</td>\n",
       "    </tr>\n",
       "  </tbody>\n",
       "</table>\n",
       "</div>"
      ],
      "text/plain": [
       "   a         b         c         d         e\n",
       "0  9 -0.839462  1.336284  1.417990  0.189500\n",
       "1  7 -0.169535 -1.357715  0.452915  0.330742\n",
       "4  7 -0.414214 -2.309142 -0.137398 -0.197653\n",
       "5  4  0.670824  0.817382  0.843827  0.675119\n",
       "6  4 -1.301641 -0.449661  1.434894  0.079748\n",
       "7  6 -0.709658 -0.078075 -2.331665  0.066463\n",
       "8  5  0.044654 -2.252579 -1.168866  0.411427\n",
       "9  1  0.104430  0.627426  0.740090  0.876640"
      ]
     },
     "execution_count": 34,
     "metadata": {},
     "output_type": "execute_result"
    }
   ],
   "source": [
    "df"
   ]
  },
  {
   "cell_type": "raw",
   "metadata": {},
   "source": [
    "Or a whole row "
   ]
  },
  {
   "cell_type": "code",
   "execution_count": 35,
   "metadata": {
    "collapsed": true
   },
   "outputs": [],
   "source": [
    "df.iloc[1,:] = np.zeros(5)"
   ]
  },
  {
   "cell_type": "code",
   "execution_count": 36,
   "metadata": {
    "collapsed": false
   },
   "outputs": [
    {
     "data": {
      "text/html": [
       "<div>\n",
       "<table border=\"1\" class=\"dataframe\">\n",
       "  <thead>\n",
       "    <tr style=\"text-align: right;\">\n",
       "      <th></th>\n",
       "      <th>a</th>\n",
       "      <th>b</th>\n",
       "      <th>c</th>\n",
       "      <th>d</th>\n",
       "      <th>e</th>\n",
       "    </tr>\n",
       "  </thead>\n",
       "  <tbody>\n",
       "    <tr>\n",
       "      <th>0</th>\n",
       "      <td>9.0</td>\n",
       "      <td>-0.839462</td>\n",
       "      <td>1.336284</td>\n",
       "      <td>1.417990</td>\n",
       "      <td>0.189500</td>\n",
       "    </tr>\n",
       "    <tr>\n",
       "      <th>1</th>\n",
       "      <td>0.0</td>\n",
       "      <td>0.000000</td>\n",
       "      <td>0.000000</td>\n",
       "      <td>0.000000</td>\n",
       "      <td>0.000000</td>\n",
       "    </tr>\n",
       "    <tr>\n",
       "      <th>4</th>\n",
       "      <td>7.0</td>\n",
       "      <td>-0.414214</td>\n",
       "      <td>-2.309142</td>\n",
       "      <td>-0.137398</td>\n",
       "      <td>-0.197653</td>\n",
       "    </tr>\n",
       "    <tr>\n",
       "      <th>5</th>\n",
       "      <td>4.0</td>\n",
       "      <td>0.670824</td>\n",
       "      <td>0.817382</td>\n",
       "      <td>0.843827</td>\n",
       "      <td>0.675119</td>\n",
       "    </tr>\n",
       "    <tr>\n",
       "      <th>6</th>\n",
       "      <td>4.0</td>\n",
       "      <td>-1.301641</td>\n",
       "      <td>-0.449661</td>\n",
       "      <td>1.434894</td>\n",
       "      <td>0.079748</td>\n",
       "    </tr>\n",
       "    <tr>\n",
       "      <th>7</th>\n",
       "      <td>6.0</td>\n",
       "      <td>-0.709658</td>\n",
       "      <td>-0.078075</td>\n",
       "      <td>-2.331665</td>\n",
       "      <td>0.066463</td>\n",
       "    </tr>\n",
       "    <tr>\n",
       "      <th>8</th>\n",
       "      <td>5.0</td>\n",
       "      <td>0.044654</td>\n",
       "      <td>-2.252579</td>\n",
       "      <td>-1.168866</td>\n",
       "      <td>0.411427</td>\n",
       "    </tr>\n",
       "    <tr>\n",
       "      <th>9</th>\n",
       "      <td>1.0</td>\n",
       "      <td>0.104430</td>\n",
       "      <td>0.627426</td>\n",
       "      <td>0.740090</td>\n",
       "      <td>0.876640</td>\n",
       "    </tr>\n",
       "  </tbody>\n",
       "</table>\n",
       "</div>"
      ],
      "text/plain": [
       "     a         b         c         d         e\n",
       "0  9.0 -0.839462  1.336284  1.417990  0.189500\n",
       "1  0.0  0.000000  0.000000  0.000000  0.000000\n",
       "4  7.0 -0.414214 -2.309142 -0.137398 -0.197653\n",
       "5  4.0  0.670824  0.817382  0.843827  0.675119\n",
       "6  4.0 -1.301641 -0.449661  1.434894  0.079748\n",
       "7  6.0 -0.709658 -0.078075 -2.331665  0.066463\n",
       "8  5.0  0.044654 -2.252579 -1.168866  0.411427\n",
       "9  1.0  0.104430  0.627426  0.740090  0.876640"
      ]
     },
     "execution_count": 36,
     "metadata": {},
     "output_type": "execute_result"
    }
   ],
   "source": [
    "df"
   ]
  },
  {
   "cell_type": "markdown",
   "metadata": {},
   "source": [
    "That about wraps it up for basic pandas usage. Next, we will import some real data and do a bit of epxloring using pandas and some additional tools "
   ]
  }
 ],
 "metadata": {
  "kernelspec": {
   "display_name": "Python 2",
   "language": "python",
   "name": "python2"
  },
  "language_info": {
   "codemirror_mode": {
    "name": "ipython",
    "version": 2
   },
   "file_extension": ".py",
   "mimetype": "text/x-python",
   "name": "python",
   "nbconvert_exporter": "python",
   "pygments_lexer": "ipython2",
   "version": "2.7.8"
  },
  "widgets": {
   "state": {},
   "version": "1.1.2"
  }
 },
 "nbformat": 4,
 "nbformat_minor": 0
}
