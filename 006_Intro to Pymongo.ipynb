{
 "cells": [
  {
   "cell_type": "markdown",
   "metadata": {},
   "source": [
    "# Intro to Pymongo"
   ]
  },
  {
   "cell_type": "code",
   "execution_count": 1,
   "metadata": {
    "collapsed": false
   },
   "outputs": [
    {
     "name": "stdout",
     "output_type": "stream",
     "text": [
      "Populating the interactive namespace from numpy and matplotlib\n"
     ]
    }
   ],
   "source": [
    "%pylab inline\n",
    "\n",
    "from pymongo import MongoClient"
   ]
  },
  {
   "cell_type": "markdown",
   "metadata": {},
   "source": [
    "## Establishing a connection to the server\n",
    "\n",
    "A MongoClient instance will establish a connection with a MongoDB server. If we call it with no arguments it will default to the local instance (if it exists)"
   ]
  },
  {
   "cell_type": "code",
   "execution_count": 2,
   "metadata": {
    "collapsed": true
   },
   "outputs": [],
   "source": [
    "client = MongoClient()"
   ]
  },
  {
   "cell_type": "code",
   "execution_count": 3,
   "metadata": {
    "collapsed": false
   },
   "outputs": [
    {
     "data": {
      "text/plain": [
       "MongoClient(host=['localhost:27017'], document_class=dict, tz_aware=False, connect=True)"
      ]
     },
     "execution_count": 3,
     "metadata": {},
     "output_type": "execute_result"
    }
   ],
   "source": [
    "client"
   ]
  },
  {
   "cell_type": "markdown",
   "metadata": {},
   "source": [
    "In MongoDB, there are three levels of explicit organization, \"databases\" (dbs), which contain one or more \"collections\", which contain one or more \"documents\". Documents can contain sub-documents, but these can't be queried directly. \n",
    "\n",
    "We use dot notation to direct our client to the appropriate db and collection. If we direct the client to a db/collection that does not exist, it will be automatically created when we add content to it through pymongo. \n",
    "\n",
    "Let's say we want to create a db called my_database with a collection my_collection. We can assign our db and collection to variables in our python namespace as follows"
   ]
  },
  {
   "cell_type": "code",
   "execution_count": 4,
   "metadata": {
    "collapsed": true
   },
   "outputs": [],
   "source": [
    "db = client.my_database\n",
    "collection = db.my_collection"
   ]
  },
  {
   "cell_type": "code",
   "execution_count": 5,
   "metadata": {
    "collapsed": false
   },
   "outputs": [
    {
     "data": {
      "text/plain": [
       "Database(MongoClient(host=['localhost:27017'], document_class=dict, tz_aware=False, connect=True), u'my_database')"
      ]
     },
     "execution_count": 5,
     "metadata": {},
     "output_type": "execute_result"
    }
   ],
   "source": [
    "db"
   ]
  },
  {
   "cell_type": "code",
   "execution_count": 6,
   "metadata": {
    "collapsed": false
   },
   "outputs": [
    {
     "data": {
      "text/plain": [
       "Collection(Database(MongoClient(host=['localhost:27017'], document_class=dict, tz_aware=False, connect=True), u'my_database'), u'my_collection')"
      ]
     },
     "execution_count": 6,
     "metadata": {},
     "output_type": "execute_result"
    }
   ],
   "source": [
    "collection"
   ]
  },
  {
   "cell_type": "markdown",
   "metadata": {},
   "source": [
    "Often, it is simplest to establish this with a one-liner."
   ]
  },
  {
   "cell_type": "code",
   "execution_count": 7,
   "metadata": {
    "collapsed": true
   },
   "outputs": [],
   "source": [
    "collection = MongoClient().my_database.my_collection"
   ]
  },
  {
   "cell_type": "markdown",
   "metadata": {},
   "source": [
    "Let's check in our terminal to see if our db and/or colletion have been created. We do that in the terminal in the following way \n",
    "\n",
    "Type `mongo` and hit `return` -- this should enter you into \n",
    "\n",
    "Type `show dbs` -- this should generate a list of databases\n",
    "\n",
    "You should see a database called `admin` and perhaps some others, but not `my_database` -- this is because it is not created until some content (documents) is inserted into it. Let's insert a document.  "
   ]
  },
  {
   "cell_type": "markdown",
   "metadata": {},
   "source": [
    "## Inserting a document"
   ]
  },
  {
   "cell_type": "code",
   "execution_count": 8,
   "metadata": {
    "collapsed": true
   },
   "outputs": [],
   "source": [
    "# create a dictionary that will serve as our first document \n",
    "doc = {'a':20, 'b':'cheezits'}"
   ]
  },
  {
   "cell_type": "code",
   "execution_count": 9,
   "metadata": {
    "collapsed": false
   },
   "outputs": [
    {
     "data": {
      "text/plain": [
       "{'a': 20, 'b': 'cheezits'}"
      ]
     },
     "execution_count": 9,
     "metadata": {},
     "output_type": "execute_result"
    }
   ],
   "source": [
    "doc"
   ]
  },
  {
   "cell_type": "code",
   "execution_count": 10,
   "metadata": {
    "collapsed": false
   },
   "outputs": [
    {
     "data": {
      "text/plain": [
       "<pymongo.results.InsertOneResult at 0x112fc9f00>"
      ]
     },
     "execution_count": 10,
     "metadata": {},
     "output_type": "execute_result"
    }
   ],
   "source": [
    "collection.insert_one(doc)"
   ]
  },
  {
   "cell_type": "markdown",
   "metadata": {},
   "source": [
    "Let's go back to terminal and look at our dbs again using `show dbs`\n",
    "\n",
    "Now we should see `my_database` in the list! \n",
    "\n",
    "To switch to it, type `use my_database`\n",
    "\n",
    "And to view its collections, type `show collections`\n",
    "\n",
    "To count the documents in the collection, type `db.my_collection.count()`\n",
    "\n",
    "There is one document -- hopefully its ours. Let's switch back to python and insert one more. \n",
    "\n"
   ]
  },
  {
   "cell_type": "code",
   "execution_count": 11,
   "metadata": {
    "collapsed": false
   },
   "outputs": [
    {
     "data": {
      "text/plain": [
       "<pymongo.results.InsertOneResult at 0x112fc9f50>"
      ]
     },
     "execution_count": 11,
     "metadata": {},
     "output_type": "execute_result"
    }
   ],
   "source": [
    "doc2 = {'name':'joe', 'favorite animal':'doggy'}\n",
    "collection.insert_one(doc2)"
   ]
  },
  {
   "cell_type": "markdown",
   "metadata": {},
   "source": [
    "If we type the command `db.my_collection.count()` in the terminal one more time, we should see there are now two documents. \n",
    "\n",
    "Notice that the contents od these two documents DON'T MATCH! This means you must take care in constructing and modifying documents. It is generally best if all documents across a collection share the same \"schema\" i.e. the set of keys to which values are assigned. \n",
    "\n",
    "Also, if we look at our two dictionaries, we will notice they are modified."
   ]
  },
  {
   "cell_type": "code",
   "execution_count": 12,
   "metadata": {
    "collapsed": false
   },
   "outputs": [
    {
     "name": "stdout",
     "output_type": "stream",
     "text": [
      "{'a': 20, 'b': 'cheezits', '_id': ObjectId('5760a1fcc4fc3347764a0cbc')} {'favorite animal': 'doggy', 'name': 'joe', '_id': ObjectId('5760a1fcc4fc3347764a0cbd')}\n"
     ]
    }
   ],
   "source": [
    "print doc, doc2"
   ]
  },
  {
   "cell_type": "markdown",
   "metadata": {},
   "source": [
    "Each document now contains a field named `'_id'` with an `ObjectId('SomeLongString')`. This was automatically generated when the document was added to MongoDB, and pymongo was kind enough to update our local dictionary to match. \n",
    "\n",
    "The `'_id'` field is special for Mongo, it is the unique identifier of a document. Sometimes, it makes sense to let MongoDB generate it when it is okay for it to be arbitrary -- it is also fast. However, sometimes it makes sense to assign it ourselves, for instance when there is another system or database which contains unique identifiers that it is important to keep in correspondence. \n",
    "\n",
    "Let's create and insert one more document, this time specifying our own `'_id'`"
   ]
  },
  {
   "cell_type": "code",
   "execution_count": 13,
   "metadata": {
    "collapsed": false
   },
   "outputs": [
    {
     "data": {
      "text/plain": [
       "<pymongo.results.InsertOneResult at 0x112fc9eb0>"
      ]
     },
     "execution_count": 13,
     "metadata": {},
     "output_type": "execute_result"
    }
   ],
   "source": [
    "doc3 = {'_id':'turtle', 'color':'green'}\n",
    "collection.insert_one(doc3)"
   ]
  },
  {
   "cell_type": "markdown",
   "metadata": {},
   "source": [
    "## Querying"
   ]
  },
  {
   "cell_type": "code",
   "execution_count": 14,
   "metadata": {
    "collapsed": false
   },
   "outputs": [
    {
     "name": "stdout",
     "output_type": "stream",
     "text": [
      "{u'color': u'green', u'_id': u'turtle'}\n"
     ]
    }
   ],
   "source": [
    "print collection.find_one({'_id':'turtle'})"
   ]
  }
 ],
 "metadata": {
  "kernelspec": {
   "display_name": "Python 2",
   "language": "python",
   "name": "python2"
  },
  "language_info": {
   "codemirror_mode": {
    "name": "ipython",
    "version": 2
   },
   "file_extension": ".py",
   "mimetype": "text/x-python",
   "name": "python",
   "nbconvert_exporter": "python",
   "pygments_lexer": "ipython2",
   "version": "2.7.8"
  },
  "widgets": {
   "state": {},
   "version": "1.1.2"
  }
 },
 "nbformat": 4,
 "nbformat_minor": 0
}
